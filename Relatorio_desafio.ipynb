{
 "cells": [
  {
   "attachments": {},
   "cell_type": "markdown",
   "metadata": {},
   "source": [
    "# Desafio Manutenção Preditiva"
   ]
  },
  {
   "attachments": {},
   "cell_type": "markdown",
   "metadata": {},
   "source": [
    "Por: Gustavo Perbone"
   ]
  },
  {
   "attachments": {},
   "cell_type": "markdown",
   "metadata": {},
   "source": [
    "Na célula abaixo estarão concentrados todos os imports necessários para o projeto. "
   ]
  },
  {
   "cell_type": "code",
   "execution_count": 97,
   "metadata": {},
   "outputs": [],
   "source": [
    "# imports\n",
    "\n",
    "# data manipulation and visualization\n",
    "import pandas as pd\n",
    "import numpy as np\n",
    "import seaborn as sns\n",
    "import matplotlib.pyplot as plt\n",
    "\n",
    "# preparation for creatig the models\n",
    "from imblearn.over_sampling import SMOTE\n",
    "\n",
    "from sklearn.model_selection import train_test_split\n",
    "\n",
    "from sklearn.preprocessing import StandardScaler, MinMaxScaler, RobustScaler\n",
    "\n",
    "# improving model parameters\n",
    "from sklearn.model_selection import RandomizedSearchCV, StratifiedKFold\n",
    "\n",
    "#models used\n",
    "from sklearn.ensemble import RandomForestClassifier\n",
    "from sklearn.neighbors import KNeighborsClassifier\n",
    "from xgboost import XGBClassifier\n",
    "\n",
    "\n",
    "#metrics\n",
    "from sklearn.metrics import classification_report, ConfusionMatrixDisplay, confusion_matrix\n",
    "\n",
    "import warnings\n",
    "warnings.filterwarnings('ignore')"
   ]
  },
  {
   "attachments": {},
   "cell_type": "markdown",
   "metadata": {},
   "source": [
    "## 1. Importando os dados"
   ]
  },
  {
   "attachments": {},
   "cell_type": "markdown",
   "metadata": {},
   "source": [
    "Como primeiro passo, vamos importar os dados de treino e explorá-los."
   ]
  },
  {
   "cell_type": "code",
   "execution_count": 98,
   "metadata": {},
   "outputs": [
    {
     "data": {
      "text/html": [
       "<div>\n",
       "<style scoped>\n",
       "    .dataframe tbody tr th:only-of-type {\n",
       "        vertical-align: middle;\n",
       "    }\n",
       "\n",
       "    .dataframe tbody tr th {\n",
       "        vertical-align: top;\n",
       "    }\n",
       "\n",
       "    .dataframe thead th {\n",
       "        text-align: right;\n",
       "    }\n",
       "</style>\n",
       "<table border=\"1\" class=\"dataframe\">\n",
       "  <thead>\n",
       "    <tr style=\"text-align: right;\">\n",
       "      <th></th>\n",
       "      <th>udi</th>\n",
       "      <th>product_id</th>\n",
       "      <th>type</th>\n",
       "      <th>air_temperature_k</th>\n",
       "      <th>process_temperature_k</th>\n",
       "      <th>rotational_speed_rpm</th>\n",
       "      <th>torque_nm</th>\n",
       "      <th>tool_wear_min</th>\n",
       "      <th>failure_type</th>\n",
       "    </tr>\n",
       "  </thead>\n",
       "  <tbody>\n",
       "    <tr>\n",
       "      <th>0</th>\n",
       "      <td>1</td>\n",
       "      <td>M14860</td>\n",
       "      <td>M</td>\n",
       "      <td>298.1</td>\n",
       "      <td>308.6</td>\n",
       "      <td>1551</td>\n",
       "      <td>42.8</td>\n",
       "      <td>0</td>\n",
       "      <td>No Failure</td>\n",
       "    </tr>\n",
       "    <tr>\n",
       "      <th>1</th>\n",
       "      <td>2</td>\n",
       "      <td>L47181</td>\n",
       "      <td>L</td>\n",
       "      <td>298.2</td>\n",
       "      <td>308.7</td>\n",
       "      <td>1408</td>\n",
       "      <td>46.3</td>\n",
       "      <td>3</td>\n",
       "      <td>No Failure</td>\n",
       "    </tr>\n",
       "    <tr>\n",
       "      <th>2</th>\n",
       "      <td>5</td>\n",
       "      <td>L47184</td>\n",
       "      <td>L</td>\n",
       "      <td>298.2</td>\n",
       "      <td>308.7</td>\n",
       "      <td>1408</td>\n",
       "      <td>40.0</td>\n",
       "      <td>9</td>\n",
       "      <td>No Failure</td>\n",
       "    </tr>\n",
       "    <tr>\n",
       "      <th>3</th>\n",
       "      <td>6</td>\n",
       "      <td>M14865</td>\n",
       "      <td>M</td>\n",
       "      <td>298.1</td>\n",
       "      <td>308.6</td>\n",
       "      <td>1425</td>\n",
       "      <td>41.9</td>\n",
       "      <td>11</td>\n",
       "      <td>No Failure</td>\n",
       "    </tr>\n",
       "    <tr>\n",
       "      <th>4</th>\n",
       "      <td>7</td>\n",
       "      <td>L47186</td>\n",
       "      <td>L</td>\n",
       "      <td>298.1</td>\n",
       "      <td>308.6</td>\n",
       "      <td>1558</td>\n",
       "      <td>42.4</td>\n",
       "      <td>14</td>\n",
       "      <td>No Failure</td>\n",
       "    </tr>\n",
       "  </tbody>\n",
       "</table>\n",
       "</div>"
      ],
      "text/plain": [
       "   udi product_id type  air_temperature_k  process_temperature_k  \\\n",
       "0    1     M14860    M              298.1                  308.6   \n",
       "1    2     L47181    L              298.2                  308.7   \n",
       "2    5     L47184    L              298.2                  308.7   \n",
       "3    6     M14865    M              298.1                  308.6   \n",
       "4    7     L47186    L              298.1                  308.6   \n",
       "\n",
       "   rotational_speed_rpm  torque_nm  tool_wear_min failure_type  \n",
       "0                  1551       42.8              0   No Failure  \n",
       "1                  1408       46.3              3   No Failure  \n",
       "2                  1408       40.0              9   No Failure  \n",
       "3                  1425       41.9             11   No Failure  \n",
       "4                  1558       42.4             14   No Failure  "
      ]
     },
     "metadata": {},
     "output_type": "display_data"
    },
    {
     "name": "stdout",
     "output_type": "stream",
     "text": [
      "A tabela tem 9 colunas e 6667 registros.\n"
     ]
    }
   ],
   "source": [
    "df_falhas = pd.read_csv('data/desafio_manutencao_preditiva_treino.csv')\n",
    "display(df_falhas.head())\n",
    "print(f'A tabela tem {df_falhas.shape[1]} colunas e {df_falhas.shape[0]} registros.')"
   ]
  },
  {
   "attachments": {},
   "cell_type": "markdown",
   "metadata": {},
   "source": [
    "Dos dados fornecidos previamente nas instruções, sabemos que as seguintes colunas estão presentes no dataset:\n",
    "- **udi**: é o identificador único de cada registro, indo de 1 a 10000;\n",
    "- **product id**: consiste na letra L, M, H e umnúmero serial específico da variante;\n",
    "- **type**: é o primeiro caracter do *product_id*, significando a qualidade da variante do produto: L(50% dos produtos), M(30% dos produtos) ou H(20%);\n",
    "- **air temperature [K]**: gerada utilizando o método de passeio aleatório e posteriormente normalizada com um desvio padrão de 2 K em torno de 300 K;\n",
    "- **process temperature [K]**: gerada utilizando o método de passeio aleatório e posteriormente normalizada com um desvio padrão de 1 K, adicionada a temperatura do ar mais 10 K;\n",
    "- **rotational speed [rpm]**: calculada em torno de 300 K;de uma potência de 2860 W, sobreposta com um ruído de distribuição normal;\n",
    "- **torque [Nm]**: os valores de torque se referem a uma distribuição normal em torno de 40 Nm com DP= 10 Nm e sem valores negativos;\n",
    "- **tool wear [min]**: A qualidade das variantes H/M/L adivionam 5/3/2 minutos de desgaste à ferramenta utilizada no processo. \n",
    "- **failure type**: representa se houve falha no processo. Pode ser *No Failure* (sem falha), *tool wear failure (TWF)*, *heat dissipation failure (HDF)*, *power failure (PWF)*, *overstrain failure (OSF)* ou *random failures (RNF)*."
   ]
  },
  {
   "attachments": {},
   "cell_type": "markdown",
   "metadata": {},
   "source": [
    "Os tipos  de falhas que podem ocorer são:\n",
    "- **tool wear failure (TWF)**: A ferramenta será reposta em um tempo de desgaste entre 200-240 min;\n",
    "- **heat dissipation failure (HDF)**: A dissipação de calor causa uma falha no processo se a diferença entre a temperatura do ar e do processo for abaixo de 8.6K e a velocidade rotacional é abaixo de 1380 rpm;\n",
    "- **power failure (PWF)**: o produto do torque e da velocidade rotacional (em rad/s) representa a potência requerida pelo processo. Se a potência for menor que 3500 W ou maior que 9000 W, o processo falha;\n",
    "- **overstrain failure (OSF)**: se o produto de desgaste da ferramenta e torque exceder 11000 minNm para a variante L, 12000 para M ou 13000 para H, o processo falha;\n",
    "- **random failures (RNF)**: cada processo tem chance de 0,1 % de falha, independente dos parâmetros.\n"
   ]
  },
  {
   "attachments": {},
   "cell_type": "markdown",
   "metadata": {},
   "source": [
    "Percebe-se que várias condições já são dadas para a ocorrência das falhas, e isso pode ser uma dica de quais features podemos criar para ajudar o nosso modelo!<br/> Isso também significa que não é possível prever as falhas aleatórias, já que como a prórpia descrição da variável nos diz, ela ocorre aleatoriamente. Por isso, as linhas que resultam em falhas aleatórias serão desconsideradas."
   ]
  },
  {
   "cell_type": "code",
   "execution_count": 99,
   "metadata": {},
   "outputs": [
    {
     "data": {
      "text/plain": [
       "(6667, 9)"
      ]
     },
     "execution_count": 99,
     "metadata": {},
     "output_type": "execute_result"
    }
   ],
   "source": [
    "df_falhas.shape"
   ]
  },
  {
   "cell_type": "code",
   "execution_count": 100,
   "metadata": {},
   "outputs": [
    {
     "name": "stdout",
     "output_type": "stream",
     "text": [
      "Restaram 6655 colunas! Foram excluídas 0.18% das colunas\n"
     ]
    }
   ],
   "source": [
    "df_falhas = df_falhas[df_falhas.failure_type != 'Random Failures']\n",
    "print(f'Restaram {df_falhas.shape[0]} colunas! Foram excluídas {((6667-df_falhas.shape[0])*100/6667):.2f}% das colunas')"
   ]
  },
  {
   "cell_type": "code",
   "execution_count": 101,
   "metadata": {},
   "outputs": [
    {
     "name": "stdout",
     "output_type": "stream",
     "text": [
      "<class 'pandas.core.frame.DataFrame'>\n",
      "Int64Index: 6655 entries, 0 to 6666\n",
      "Data columns (total 9 columns):\n",
      " #   Column                 Non-Null Count  Dtype  \n",
      "---  ------                 --------------  -----  \n",
      " 0   udi                    6655 non-null   int64  \n",
      " 1   product_id             6655 non-null   object \n",
      " 2   type                   6655 non-null   object \n",
      " 3   air_temperature_k      6655 non-null   float64\n",
      " 4   process_temperature_k  6655 non-null   float64\n",
      " 5   rotational_speed_rpm   6655 non-null   int64  \n",
      " 6   torque_nm              6655 non-null   float64\n",
      " 7   tool_wear_min          6655 non-null   int64  \n",
      " 8   failure_type           6655 non-null   object \n",
      "dtypes: float64(3), int64(3), object(3)\n",
      "memory usage: 519.9+ KB\n"
     ]
    }
   ],
   "source": [
    "# Verificando se há valores vazios e os tipos\n",
    "df_falhas.info()"
   ]
  },
  {
   "cell_type": "code",
   "execution_count": 102,
   "metadata": {},
   "outputs": [
    {
     "data": {
      "text/plain": [
       "udi                      6655\n",
       "product_id               6655\n",
       "type                        3\n",
       "air_temperature_k          93\n",
       "process_temperature_k      82\n",
       "rotational_speed_rpm      840\n",
       "torque_nm                 547\n",
       "tool_wear_min             243\n",
       "failure_type                5\n",
       "dtype: int64"
      ]
     },
     "execution_count": 102,
     "metadata": {},
     "output_type": "execute_result"
    }
   ],
   "source": [
    "# Verificando a quantidade de valores únicos por coluna\n",
    "df_falhas.nunique()"
   ]
  },
  {
   "attachments": {},
   "cell_type": "markdown",
   "metadata": {},
   "source": [
    "Podemos concluir que não há valores vazios no dataset de treino. Também é possível concluir que as colunas *udi* e *product_id* são exclusivas de cada linha, então elas não serão úteis para o modelo. Podemos removê-las:"
   ]
  },
  {
   "cell_type": "code",
   "execution_count": 103,
   "metadata": {},
   "outputs": [
    {
     "name": "stdout",
     "output_type": "stream",
     "text": [
      "<class 'pandas.core.frame.DataFrame'>\n",
      "Int64Index: 6655 entries, 0 to 6666\n",
      "Data columns (total 7 columns):\n",
      " #   Column                 Non-Null Count  Dtype  \n",
      "---  ------                 --------------  -----  \n",
      " 0   type                   6655 non-null   object \n",
      " 1   air_temperature_k      6655 non-null   float64\n",
      " 2   process_temperature_k  6655 non-null   float64\n",
      " 3   rotational_speed_rpm   6655 non-null   int64  \n",
      " 4   torque_nm              6655 non-null   float64\n",
      " 5   tool_wear_min          6655 non-null   int64  \n",
      " 6   failure_type           6655 non-null   object \n",
      "dtypes: float64(3), int64(2), object(2)\n",
      "memory usage: 415.9+ KB\n"
     ]
    }
   ],
   "source": [
    "df_falhas.drop([\"udi\", \"product_id\"], axis = 1, inplace=True)\n",
    "df_falhas.info()"
   ]
  },
  {
   "attachments": {},
   "cell_type": "markdown",
   "metadata": {},
   "source": [
    "Por fim, temos 1 feature do tipo object e 5 features do tipo numéricas, sendo 3 float e 2 inteiras. O target é um object.\n",
    "<br/>\n",
    "Abaixo faremos a exploração destes dados."
   ]
  },
  {
   "attachments": {},
   "cell_type": "markdown",
   "metadata": {},
   "source": [
    "## 2. Análise Exploratória dos Dados"
   ]
  },
  {
   "attachments": {},
   "cell_type": "markdown",
   "metadata": {},
   "source": [
    "Agora podemos explorar os dados que temos disponíveis para criação do modelo, para entender suas distribuições, se há outliers, e se há alguma vairável que precisa ser transformada."
   ]
  },
  {
   "cell_type": "code",
   "execution_count": 104,
   "metadata": {},
   "outputs": [
    {
     "data": {
      "text/html": [
       "<div>\n",
       "<style scoped>\n",
       "    .dataframe tbody tr th:only-of-type {\n",
       "        vertical-align: middle;\n",
       "    }\n",
       "\n",
       "    .dataframe tbody tr th {\n",
       "        vertical-align: top;\n",
       "    }\n",
       "\n",
       "    .dataframe thead th {\n",
       "        text-align: right;\n",
       "    }\n",
       "</style>\n",
       "<table border=\"1\" class=\"dataframe\">\n",
       "  <thead>\n",
       "    <tr style=\"text-align: right;\">\n",
       "      <th></th>\n",
       "      <th>air_temperature_k</th>\n",
       "      <th>process_temperature_k</th>\n",
       "      <th>rotational_speed_rpm</th>\n",
       "      <th>torque_nm</th>\n",
       "      <th>tool_wear_min</th>\n",
       "    </tr>\n",
       "  </thead>\n",
       "  <tbody>\n",
       "    <tr>\n",
       "      <th>count</th>\n",
       "      <td>6655.000000</td>\n",
       "      <td>6655.000000</td>\n",
       "      <td>6655.000000</td>\n",
       "      <td>6655.000000</td>\n",
       "      <td>6655.000000</td>\n",
       "    </tr>\n",
       "    <tr>\n",
       "      <th>mean</th>\n",
       "      <td>299.991255</td>\n",
       "      <td>309.991360</td>\n",
       "      <td>1537.500676</td>\n",
       "      <td>40.052111</td>\n",
       "      <td>108.079189</td>\n",
       "    </tr>\n",
       "    <tr>\n",
       "      <th>std</th>\n",
       "      <td>1.994807</td>\n",
       "      <td>1.487567</td>\n",
       "      <td>177.277403</td>\n",
       "      <td>9.948498</td>\n",
       "      <td>63.336292</td>\n",
       "    </tr>\n",
       "    <tr>\n",
       "      <th>min</th>\n",
       "      <td>295.300000</td>\n",
       "      <td>305.700000</td>\n",
       "      <td>1168.000000</td>\n",
       "      <td>3.800000</td>\n",
       "      <td>0.000000</td>\n",
       "    </tr>\n",
       "    <tr>\n",
       "      <th>25%</th>\n",
       "      <td>298.300000</td>\n",
       "      <td>308.800000</td>\n",
       "      <td>1423.000000</td>\n",
       "      <td>33.200000</td>\n",
       "      <td>54.000000</td>\n",
       "    </tr>\n",
       "    <tr>\n",
       "      <th>50%</th>\n",
       "      <td>300.000000</td>\n",
       "      <td>310.000000</td>\n",
       "      <td>1503.000000</td>\n",
       "      <td>40.200000</td>\n",
       "      <td>108.000000</td>\n",
       "    </tr>\n",
       "    <tr>\n",
       "      <th>75%</th>\n",
       "      <td>301.500000</td>\n",
       "      <td>311.100000</td>\n",
       "      <td>1612.000000</td>\n",
       "      <td>46.800000</td>\n",
       "      <td>162.000000</td>\n",
       "    </tr>\n",
       "    <tr>\n",
       "      <th>max</th>\n",
       "      <td>304.500000</td>\n",
       "      <td>313.800000</td>\n",
       "      <td>2886.000000</td>\n",
       "      <td>76.600000</td>\n",
       "      <td>251.000000</td>\n",
       "    </tr>\n",
       "  </tbody>\n",
       "</table>\n",
       "</div>"
      ],
      "text/plain": [
       "       air_temperature_k  process_temperature_k  rotational_speed_rpm  \\\n",
       "count        6655.000000            6655.000000           6655.000000   \n",
       "mean          299.991255             309.991360           1537.500676   \n",
       "std             1.994807               1.487567            177.277403   \n",
       "min           295.300000             305.700000           1168.000000   \n",
       "25%           298.300000             308.800000           1423.000000   \n",
       "50%           300.000000             310.000000           1503.000000   \n",
       "75%           301.500000             311.100000           1612.000000   \n",
       "max           304.500000             313.800000           2886.000000   \n",
       "\n",
       "         torque_nm  tool_wear_min  \n",
       "count  6655.000000    6655.000000  \n",
       "mean     40.052111     108.079189  \n",
       "std       9.948498      63.336292  \n",
       "min       3.800000       0.000000  \n",
       "25%      33.200000      54.000000  \n",
       "50%      40.200000     108.000000  \n",
       "75%      46.800000     162.000000  \n",
       "max      76.600000     251.000000  "
      ]
     },
     "execution_count": 104,
     "metadata": {},
     "output_type": "execute_result"
    }
   ],
   "source": [
    "df_falhas.describe()"
   ]
  },
  {
   "attachments": {},
   "cell_type": "markdown",
   "metadata": {},
   "source": [
    "### Target"
   ]
  },
  {
   "attachments": {},
   "cell_type": "markdown",
   "metadata": {},
   "source": [
    "Vamos verificar a distribuição do target:"
   ]
  },
  {
   "cell_type": "code",
   "execution_count": 105,
   "metadata": {},
   "outputs": [
    {
     "data": {
      "image/png": "[encoded data removed]",
      "text/plain": [
       "<Figure size 720x432 with 1 Axes>"
      ]
     },
     "metadata": {
      "needs_background": "light"
     },
     "output_type": "display_data"
    }
   ],
   "source": [
    "fig= plt.subplots(figsize=(10,6))\n",
    "sns.countplot(data=df_falhas, x='failure_type', palette = 'crest')\n",
    "\n",
    "plt.suptitle('Target Distribution', fontsize=20)\n",
    "plt.show()"
   ]
  },
  {
   "cell_type": "code",
   "execution_count": 106,
   "metadata": {},
   "outputs": [
    {
     "name": "stdout",
     "output_type": "stream",
     "text": [
      "Tipo de Falha\n",
      "No Failure                  0.966942\n",
      "Heat Dissipation Failure    0.011270\n",
      "Power Failure               0.009467\n",
      "Overstrain Failure          0.007814\n",
      "Tool Wear Failure           0.004508\n",
      "Name: failure_type, dtype: float64\n"
     ]
    }
   ],
   "source": [
    "print(\"Tipo de Falha\")\n",
    "print(df_falhas.failure_type.value_counts(normalize=True))"
   ]
  },
  {
   "attachments": {},
   "cell_type": "markdown",
   "metadata": {},
   "source": [
    "Conclusões:\n",
    "- **target**: apenas 3,5% dos dados são falhas. Isso precisará ser balanceado antes do treinamento dos modelos."
   ]
  },
  {
   "attachments": {},
   "cell_type": "markdown",
   "metadata": {},
   "source": [
    "### Variáveis Categóricas"
   ]
  },
  {
   "cell_type": "code",
   "execution_count": 107,
   "metadata": {},
   "outputs": [
    {
     "data": {
      "image/png": "[encoded data removed]",
      "text/plain": [
       "<Figure size 432x288 with 1 Axes>"
      ]
     },
     "metadata": {
      "needs_background": "light"
     },
     "output_type": "display_data"
    }
   ],
   "source": [
    "sns.countplot(data=df_falhas, x='type', palette = 'crest', order=['L', 'M', 'H'])\n",
    "\n",
    "plt.suptitle('Qualitative Variables', fontsize=20)\n",
    "plt.show()"
   ]
  },
  {
   "cell_type": "code",
   "execution_count": 108,
   "metadata": {},
   "outputs": [
    {
     "name": "stdout",
     "output_type": "stream",
     "text": [
      "Tipo de qualidade\n",
      "L    0.603306\n",
      "M    0.298422\n",
      "H    0.098272\n",
      "Name: type, dtype: float64\n"
     ]
    }
   ],
   "source": [
    "print(\"Tipo de qualidade\")\n",
    "print(df_falhas.type.value_counts(normalize=True))"
   ]
  },
  {
   "attachments": {},
   "cell_type": "markdown",
   "metadata": {},
   "source": [
    "Iniciando pelas **variáveis qualitativas**, temos que:\n",
    "- **type**: a maioria dos produtos é da variante L (60%), seguido por M (30%) e H (10%)."
   ]
  },
  {
   "attachments": {},
   "cell_type": "markdown",
   "metadata": {},
   "source": [
    "### Variáveis Quantitativas"
   ]
  },
  {
   "cell_type": "code",
   "execution_count": 109,
   "metadata": {},
   "outputs": [
    {
     "data": {
      "image/png": "[encoded data removed]",
      "text/plain": [
       "<Figure size 1800x864 with 5 Axes>"
      ]
     },
     "metadata": {
      "needs_background": "light"
     },
     "output_type": "display_data"
    }
   ],
   "source": [
    "fig, ax = plt.subplots(2,3, figsize=(25,12))\n",
    "\n",
    "sns.histplot(data=df_falhas, x='air_temperature_k', color='#018571', bins=20, ax=ax[0,0])\n",
    "ax[0,0].grid(axis='y')\n",
    "\n",
    "sns.histplot(data=df_falhas, x='process_temperature_k', color='#80cdc1', ax=ax[0,1])\n",
    "ax[0,1].grid(axis='y')\n",
    "\n",
    "sns.histplot(data=df_falhas, x='rotational_speed_rpm', palette = 'BrBG', ax=ax[0,2])\n",
    "ax[0,2].grid(axis='y')\n",
    "\n",
    "sns.histplot(data=df_falhas, x='torque_nm', color='#dfc27d', ax=ax[1,0])\n",
    "ax[1,0].grid(axis='y')\n",
    "\n",
    "sns.histplot(data=df_falhas, x='tool_wear_min', palette = 'BrBG', ax=ax[1,1])\n",
    "ax[1,1].grid(axis='y')\n",
    "\n",
    "fig.delaxes(ax[1,2])\n",
    "\n",
    "plt.suptitle('Quantitative variables', fontsize=20)\n",
    "plt.show()"
   ]
  },
  {
   "cell_type": "code",
   "execution_count": 110,
   "metadata": {},
   "outputs": [
    {
     "data": {
      "image/png": "[encoded data removed]",
      "text/plain": [
       "<Figure size 1080x576 with 5 Axes>"
      ]
     },
     "metadata": {
      "needs_background": "light"
     },
     "output_type": "display_data"
    }
   ],
   "source": [
    "fig, ax = plt.subplots(1,5, figsize=(15,8))\n",
    "\n",
    "sns.boxplot(ax=ax[0],y=df_falhas['air_temperature_k'], color='#80cdc1',width=0.6)\n",
    "ax[0].grid(axis='y')\n",
    "\n",
    "sns.boxplot(ax=ax[1],y=df_falhas['process_temperature_k'], color='#80cdc1',width=0.6)\n",
    "ax[1].grid(axis='y')\n",
    "\n",
    "sns.boxplot(ax=ax[2],y=df_falhas['rotational_speed_rpm'], color='#80cdc1',width=0.6)\n",
    "ax[2].grid(axis='y')\n",
    "\n",
    "sns.boxplot(ax=ax[3],y=df_falhas['torque_nm'], color='#80cdc1',width=0.6)\n",
    "ax[3].grid(axis='y')\n",
    "\n",
    "sns.boxplot(ax=ax[4],y=df_falhas['tool_wear_min'], color='#80cdc1',width=0.6)\n",
    "ax[4].grid(axis='y')\n",
    "\n",
    "fig.tight_layout(pad=5.0)\n",
    "plt.suptitle('Boxplot of Continuous variables', fontsize=20)\n",
    "plt.show()"
   ]
  },
  {
   "attachments": {},
   "cell_type": "markdown",
   "metadata": {},
   "source": [
    "Em relação às variáveis **quantitativas**, temos que:\n",
    "- **air_temperature_K**: segue uma distribuição que aparenta ser normal, mas não é perfeita. A média é 300K com DP de 2 K, sendo mínimo valor 295.3 K e o máximo 304.5 K;\n",
    "- **process_temperature_k**: também segue uma distribuição próxima da normal, mas não é perfeita. A média é 310 K com DP de 1.49 K, sendo mínimo valor 305.7 K e o máximo 313.8 K;\n",
    "- **rotational_speed_rpm**: tem uma distribuição assimétrica, com distribuição concentrada na esquerda e cauda longa à direita;\n",
    "- **torque_nm**: tem uma distribuição normal, com média 40.05 Nm e DP 9.95 Nm;\n",
    "- **tool_wear_min**: tem uma distribuição que se assemelha à uniforme, entre os valores mínimo e máximo (0 min e 251 min)."
   ]
  },
  {
   "attachments": {},
   "cell_type": "markdown",
   "metadata": {},
   "source": [
    "Além disso, pelo boxplot e também pela descrição numérica das variáveis, levanta-se a suspeita de outliers nos dados para as colunas de *rotational_speed_rpm* e *torque_nm*. Vamos manter isso em mente, mas não removeremos os outliers, já que como se trata de um dataset sobre falhas em máquinas, uma alta rotação que poderia ser um outlier, por exemplo, pode ser justamente a causa de uma falha!"
   ]
  },
  {
   "attachments": {},
   "cell_type": "markdown",
   "metadata": {},
   "source": [
    "Agora que já conhecemos as variáveis, vamos ver como elas se relacionam com nossa variável alvo."
   ]
  },
  {
   "cell_type": "code",
   "execution_count": 111,
   "metadata": {},
   "outputs": [
    {
     "data": {
      "image/png": "[encoded data removed]",
      "text/plain": [
       "<Figure size 864x432 with 2 Axes>"
      ]
     },
     "metadata": {
      "needs_background": "light"
     },
     "output_type": "display_data"
    }
   ],
   "source": [
    "plt.figure(figsize=(12, 6))\n",
    "\n",
    "sns.heatmap(df_falhas.corr(), cmap='coolwarm', annot=True, vmin=-1, vmax=1);"
   ]
  },
  {
   "attachments": {},
   "cell_type": "markdown",
   "metadata": {},
   "source": [
    "Verifica-se que há uma correlação positiva entre *air_temperature_K* e *process_temperature_K*, além de uma correlação negativa entre *torque_nm* e *rotational_speed_rpm*.<br/>"
   ]
  },
  {
   "attachments": {},
   "cell_type": "markdown",
   "metadata": {},
   "source": [
    "Vamos visualizar as distribuições dos dados em relação ao target e ver se encontramos algum detalhe interessante:"
   ]
  },
  {
   "cell_type": "code",
   "execution_count": 112,
   "metadata": {},
   "outputs": [],
   "source": [
    "#transformando type em 0,1,2 para plotar o gráfico. Isso é feito pois estamos considerando essa variável como qualitativa ordinal\n",
    "df_falhas.type.replace({'L':0, 'M':1, 'H':2}, inplace=True)\n"
   ]
  },
  {
   "attachments": {},
   "cell_type": "markdown",
   "metadata": {},
   "source": [
    "Vamos verificar se há diferenças nas distribuições das variáveis em relação ao target. Vamos verificar por meio de boxplots:"
   ]
  },
  {
   "cell_type": "code",
   "execution_count": 113,
   "metadata": {},
   "outputs": [
    {
     "data": {
      "image/png": "[encoded data removed]",
      "text/plain": [
       "<Figure size 1440x864 with 5 Axes>"
      ]
     },
     "metadata": {
      "needs_background": "light"
     },
     "output_type": "display_data"
    }
   ],
   "source": [
    "fig, ax = plt.subplots(3,2, figsize=(20,12))\n",
    "\n",
    "\n",
    "sns.boxplot(data=df_falhas, y='air_temperature_k', x='failure_type',hue=\"failure_type\", ax=ax[0,0])\n",
    "sns.boxplot(data=df_falhas, y='process_temperature_k', x='failure_type',hue=\"failure_type\", ax=ax[0,1])\n",
    "sns.boxplot(data=df_falhas, y='rotational_speed_rpm', x='failure_type',hue=\"failure_type\", ax=ax[1,0])\n",
    "sns.boxplot(data=df_falhas, y='torque_nm', x='failure_type',hue=\"failure_type\", ax=ax[1,1])\n",
    "sns.boxplot(data=df_falhas, y='tool_wear_min', x='failure_type',hue=\"failure_type\", ax=ax[2,0])\n",
    "\n",
    "fig.delaxes(ax[2,1])\n",
    "\n",
    "fig.tight_layout(pad=3.0)\n",
    "plt.show()"
   ]
  },
  {
   "attachments": {},
   "cell_type": "markdown",
   "metadata": {},
   "source": [
    "É possível concluir que, de fato, as distribuições para as variáveis são diferentes entre quando há e quando não há falhas.<br/> \n",
    "Isso indica que as variáveis que temos disponíveis podem ser o suficiente para gerar um bom **modelo de classificação**."
   ]
  },
  {
   "attachments": {},
   "cell_type": "markdown",
   "metadata": {},
   "source": [
    "# 3.Feature Engineering"
   ]
  },
  {
   "attachments": {},
   "cell_type": "markdown",
   "metadata": {},
   "source": [
    "Com base na descrição que tivemos para cada um dos erros que podem acontecer, vamos criar algumas novas features para auxiliar o modelo:\n",
    "- **is_time_for_change**: booleano representando se o tempo de desgaste se encontra entre 200 e 240 min;\n",
    "- **temp_dif**: calcula a diferença entre a temperatura do ar e do processo;\n",
    "- **power**: representa a potencia (torque multiplicado pela velocidade rotacional); \n",
    "- **overstrain**: produto do tempo de desgaste pelo torque."
   ]
  },
  {
   "cell_type": "code",
   "execution_count": 114,
   "metadata": {},
   "outputs": [],
   "source": [
    "df_falhas['is_time_for_change'] = df_falhas.apply(lambda x: 1 if (x.tool_wear_min > 200 and x.tool_wear_min < 240) else 0 ,axis=1)\n",
    "df_falhas['temp_dif'] = df_falhas['process_temperature_k'] - df_falhas['air_temperature_k']\n",
    "df_falhas['power'] = df_falhas['torque_nm'] * df_falhas['rotational_speed_rpm']\n",
    "df_falhas['overstrain'] = df_falhas['torque_nm'] * df_falhas['tool_wear_min']"
   ]
  },
  {
   "cell_type": "code",
   "execution_count": 115,
   "metadata": {},
   "outputs": [
    {
     "data": {
      "text/html": [
       "<div>\n",
       "<style scoped>\n",
       "    .dataframe tbody tr th:only-of-type {\n",
       "        vertical-align: middle;\n",
       "    }\n",
       "\n",
       "    .dataframe tbody tr th {\n",
       "        vertical-align: top;\n",
       "    }\n",
       "\n",
       "    .dataframe thead th {\n",
       "        text-align: right;\n",
       "    }\n",
       "</style>\n",
       "<table border=\"1\" class=\"dataframe\">\n",
       "  <thead>\n",
       "    <tr style=\"text-align: right;\">\n",
       "      <th></th>\n",
       "      <th>type</th>\n",
       "      <th>air_temperature_k</th>\n",
       "      <th>process_temperature_k</th>\n",
       "      <th>rotational_speed_rpm</th>\n",
       "      <th>torque_nm</th>\n",
       "      <th>tool_wear_min</th>\n",
       "      <th>failure_type</th>\n",
       "      <th>is_time_for_change</th>\n",
       "      <th>temp_dif</th>\n",
       "      <th>power</th>\n",
       "      <th>overstrain</th>\n",
       "    </tr>\n",
       "  </thead>\n",
       "  <tbody>\n",
       "    <tr>\n",
       "      <th>0</th>\n",
       "      <td>1</td>\n",
       "      <td>298.1</td>\n",
       "      <td>308.6</td>\n",
       "      <td>1551</td>\n",
       "      <td>42.8</td>\n",
       "      <td>0</td>\n",
       "      <td>No Failure</td>\n",
       "      <td>0</td>\n",
       "      <td>10.5</td>\n",
       "      <td>66382.8</td>\n",
       "      <td>0.0</td>\n",
       "    </tr>\n",
       "    <tr>\n",
       "      <th>1</th>\n",
       "      <td>0</td>\n",
       "      <td>298.2</td>\n",
       "      <td>308.7</td>\n",
       "      <td>1408</td>\n",
       "      <td>46.3</td>\n",
       "      <td>3</td>\n",
       "      <td>No Failure</td>\n",
       "      <td>0</td>\n",
       "      <td>10.5</td>\n",
       "      <td>65190.4</td>\n",
       "      <td>138.9</td>\n",
       "    </tr>\n",
       "    <tr>\n",
       "      <th>2</th>\n",
       "      <td>0</td>\n",
       "      <td>298.2</td>\n",
       "      <td>308.7</td>\n",
       "      <td>1408</td>\n",
       "      <td>40.0</td>\n",
       "      <td>9</td>\n",
       "      <td>No Failure</td>\n",
       "      <td>0</td>\n",
       "      <td>10.5</td>\n",
       "      <td>56320.0</td>\n",
       "      <td>360.0</td>\n",
       "    </tr>\n",
       "    <tr>\n",
       "      <th>3</th>\n",
       "      <td>1</td>\n",
       "      <td>298.1</td>\n",
       "      <td>308.6</td>\n",
       "      <td>1425</td>\n",
       "      <td>41.9</td>\n",
       "      <td>11</td>\n",
       "      <td>No Failure</td>\n",
       "      <td>0</td>\n",
       "      <td>10.5</td>\n",
       "      <td>59707.5</td>\n",
       "      <td>460.9</td>\n",
       "    </tr>\n",
       "    <tr>\n",
       "      <th>4</th>\n",
       "      <td>0</td>\n",
       "      <td>298.1</td>\n",
       "      <td>308.6</td>\n",
       "      <td>1558</td>\n",
       "      <td>42.4</td>\n",
       "      <td>14</td>\n",
       "      <td>No Failure</td>\n",
       "      <td>0</td>\n",
       "      <td>10.5</td>\n",
       "      <td>66059.2</td>\n",
       "      <td>593.6</td>\n",
       "    </tr>\n",
       "  </tbody>\n",
       "</table>\n",
       "</div>"
      ],
      "text/plain": [
       "   type  air_temperature_k  process_temperature_k  rotational_speed_rpm  \\\n",
       "0     1              298.1                  308.6                  1551   \n",
       "1     0              298.2                  308.7                  1408   \n",
       "2     0              298.2                  308.7                  1408   \n",
       "3     1              298.1                  308.6                  1425   \n",
       "4     0              298.1                  308.6                  1558   \n",
       "\n",
       "   torque_nm  tool_wear_min failure_type  is_time_for_change  temp_dif  \\\n",
       "0       42.8              0   No Failure                   0      10.5   \n",
       "1       46.3              3   No Failure                   0      10.5   \n",
       "2       40.0              9   No Failure                   0      10.5   \n",
       "3       41.9             11   No Failure                   0      10.5   \n",
       "4       42.4             14   No Failure                   0      10.5   \n",
       "\n",
       "     power  overstrain  \n",
       "0  66382.8         0.0  \n",
       "1  65190.4       138.9  \n",
       "2  56320.0       360.0  \n",
       "3  59707.5       460.9  \n",
       "4  66059.2       593.6  "
      ]
     },
     "execution_count": 115,
     "metadata": {},
     "output_type": "execute_result"
    }
   ],
   "source": [
    "df_falhas.head()"
   ]
  },
  {
   "attachments": {},
   "cell_type": "markdown",
   "metadata": {},
   "source": [
    "## 4.Pré-Processamento"
   ]
  },
  {
   "attachments": {},
   "cell_type": "markdown",
   "metadata": {},
   "source": [
    "Como comentado acima, este caso pede um **modelo de classificação**, pois dadas as features, o output do modelo deve ser a classificação do processo em um tipo específico de falha."
   ]
  },
  {
   "attachments": {},
   "cell_type": "markdown",
   "metadata": {},
   "source": [
    "Vamos começar dividindo nosso dataset em treino e teste, para que não haja vazamento de dados, e transformando algumas features, lembrando que todas as alterações que forem feitas no dataset de treino devem ser refletidas no dataset de teste."
   ]
  },
  {
   "attachments": {},
   "cell_type": "markdown",
   "metadata": {},
   "source": [
    "- **type**: já foi transformado em uma coluna numérica (0,1,2);\n",
    "- **air_temperature_K**: será padronizada usando StandardScaler;\n",
    "- **process_temperature_k**: será padronizada StandardScaler;\n",
    "- **rotational_speed_rpm**: como desconfiamos de alguns outliers nessa feature, utilizaremos o RobustScaler;\n",
    "- **torque_nm**: como desconfiamos de alguns outliers nessa feature, utilizaremos o RobustScaler;\n",
    "- **tool_wear_min**: por ter uma distribuição uniforme, usaremos MinMaxScaler;\n",
    "- **is_time_for_change**: usaremos MinMaxScaler;\n",
    "- **temp_dif**: usaremos MinMaxScaler;\n",
    "- **power**: usaremos MinMaxScaler; \n",
    "- **overstrain**: usaremos MinMaxScaler;\n",
    "- **failure_type**: será convertido em classes de 0 a 4"
   ]
  },
  {
   "cell_type": "code",
   "execution_count": 116,
   "metadata": {},
   "outputs": [],
   "source": [
    "dict_falhas = {'No Failure':0, 'Power Failure':1, 'Tool Wear Failure':2, 'Overstrain Failure':3, 'Heat Dissipation Failure':4}\n",
    "df_falhas.failure_type = df_falhas.failure_type.replace(dict_falhas)"
   ]
  },
  {
   "cell_type": "code",
   "execution_count": 117,
   "metadata": {},
   "outputs": [],
   "source": [
    "# separando os dados para treino e teste\n",
    "df_train, df_test = train_test_split(df_falhas, train_size=0.8, random_state=42, stratify=df_falhas['failure_type'])\n",
    "\n",
    "#separando as features e o failure_type\n",
    "X_train = df_train.drop(columns=['failure_type'])\n",
    "X_test = df_test.drop(columns=['failure_type'])\n",
    "\n",
    "y_train = df_train['failure_type']\n",
    "y_test = df_test['failure_type']"
   ]
  },
  {
   "cell_type": "code",
   "execution_count": 118,
   "metadata": {},
   "outputs": [],
   "source": [
    "mms = MinMaxScaler()\n",
    "rs = RobustScaler()\n",
    "ss = StandardScaler()\n",
    "\n",
    "mms_columns = ['tool_wear_min', 'is_time_for_change','temp_dif','power', 'overstrain']\n",
    "rs_columns = ['rotational_speed_rpm', 'torque_nm']\n",
    "ss_columns = ['air_temperature_k', 'process_temperature_k']\n",
    "\n",
    "features_scaled_mms = pd.DataFrame(mms.fit_transform(X_train[mms_columns]))\n",
    "features_scaled_rs = pd.DataFrame(rs.fit_transform(X_train[rs_columns]))\n",
    "features_scaled_ss = pd.DataFrame(ss.fit_transform(X_train[ss_columns]))"
   ]
  },
  {
   "cell_type": "code",
   "execution_count": 119,
   "metadata": {},
   "outputs": [],
   "source": [
    "# reconstruindo o dataset\n",
    "X_train_scaled = pd.concat([features_scaled_mms,features_scaled_rs,features_scaled_ss], axis=1)\n",
    "X_train_scaled = pd.concat([X_train_scaled,pd.DataFrame(X_train['type']).set_index(X_train_scaled.index)], axis = 1,ignore_index=True)\n",
    "X_train_scaled.columns = ['type', 'tool_wear_min', 'is_time_for_change','temp_dif','power', 'overstrain', 'rotational_speed_rpm', 'torque_nm', 'air_temperature_k', 'process_temperature_k']"
   ]
  },
  {
   "attachments": {},
   "cell_type": "markdown",
   "metadata": {},
   "source": [
    "Faremos agora a transformação de dados para os dados de teste."
   ]
  },
  {
   "cell_type": "code",
   "execution_count": 120,
   "metadata": {},
   "outputs": [],
   "source": [
    "features_scaled_mms = pd.DataFrame(mms.transform(X_test[mms_columns]))\n",
    "features_scaled_rs = pd.DataFrame(rs.transform(X_test[rs_columns]))\n",
    "features_scaled_ss = pd.DataFrame(ss.transform(X_test[ss_columns]))\n"
   ]
  },
  {
   "cell_type": "code",
   "execution_count": 121,
   "metadata": {},
   "outputs": [],
   "source": [
    "# reconstruindo o dataset de teste\n",
    "X_test_scaled = pd.concat([features_scaled_mms,features_scaled_rs,features_scaled_ss], axis=1)\n",
    "X_test_scaled = pd.concat([X_test_scaled,pd.DataFrame(X_test['type']).set_index(X_test_scaled.index)], axis = 1,ignore_index=True)\n",
    "X_test_scaled.columns = ['type', 'tool_wear_min', 'is_time_for_change','temp_dif','power', 'overstrain', 'rotational_speed_rpm', 'torque_nm', 'air_temperature_k', 'process_temperature_k']"
   ]
  },
  {
   "attachments": {},
   "cell_type": "markdown",
   "metadata": {},
   "source": [
    "Temos muito mais casos em que não há falhas do que casos em que há falhas, e isso pode influenciar negativamente o modelo. **Devemos balancear nossos dados!**<br/><br/>\n",
    "Para tal, vamos usar o [SMOTE](https://imbalanced-learn.org/stable/references/generated/imblearn.over_sampling.SMOTE.html) (Synthetic Minority Over-sampling Technique), na qual são produzidas novas \"observações sintéticas\", ao contrário do que ocorreria com o RandomOverSampler, que simplesmente multiplica as ocorrências da classe minoritária. Basicamente, para realizar o seu trabalho o SMOTE pega pontos aleatórios da classe minoritária e encontra os K vizinhos mais próximos, selecionando posteriormente um desses e desenhando um vetor entre os dois pontos. Este vetor será utilizado para produzir o novo registro. Veja uma imagem ilustrativa abaixo."
   ]
  },
  {
   "attachments": {},
   "cell_type": "markdown",
   "metadata": {},
   "source": [
    "\n",
    "<img src=\"https://imbalanced-learn.org/stable/_images/sphx_glr_plot_comparison_over_sampling_004.png\" width=600>"
   ]
  },
  {
   "cell_type": "code",
   "execution_count": 122,
   "metadata": {},
   "outputs": [
    {
     "name": "stdout",
     "output_type": "stream",
     "text": [
      "Treino (antes): (5324, 10)\n",
      "Treino: (25740, 10)\n"
     ]
    }
   ],
   "source": [
    "# fazendo o balanceamento dos dados\n",
    "sm = SMOTE(random_state=42)\n",
    "X_sm, y_sm = sm.fit_resample(X_train_scaled, y_train)\n",
    "\n",
    "\n",
    "print(f\"Treino (antes): {X_train_scaled.shape}\")\n",
    "print(f\"Treino: {X_sm.shape}\")\n"
   ]
  },
  {
   "cell_type": "code",
   "execution_count": 123,
   "metadata": {},
   "outputs": [
    {
     "data": {
      "image/png": "[encoded data removed]",
      "text/plain": [
       "<Figure size 504x504 with 1 Axes>"
      ]
     },
     "metadata": {},
     "output_type": "display_data"
    }
   ],
   "source": [
    "#conferindo o balanceamento das classes\n",
    "df_sm = pd.concat([X_sm, y_sm], axis=1)\n",
    "df_sm.columns = ['type', 'tool_wear_min', 'is_time_for_change','temp_dif','power', 'overstrain', 'rotational_speed_rpm', 'torque_nm', 'air_temperature_k', 'process_temperature_k', 'failure_type']\n",
    "plt.figure(figsize = (7, 7))\n",
    "plt.pie(x=df_sm.failure_type.value_counts(), labels={'No Failure':0, 'Power Failure':1, 'Tool Wear Failure':2, 'Overstrain Failure':3, 'Heat Dissipation Failure':4}, autopct='%1.1f%%', startangle=90)\n",
    "plt.show()"
   ]
  },
  {
   "attachments": {},
   "cell_type": "markdown",
   "metadata": {},
   "source": [
    "# 5.Treinando os Modelos"
   ]
  },
  {
   "attachments": {},
   "cell_type": "markdown",
   "metadata": {},
   "source": [
    "Para este projeto, vamos utilizar três modelos: RandomForest, KNN e XGBoost. Após treiná-los, vamos comparar os resultados e escolher o que melhor se adaptou aos dados."
   ]
  },
  {
   "attachments": {},
   "cell_type": "markdown",
   "metadata": {},
   "source": [
    "### Random Forest"
   ]
  },
  {
   "cell_type": "code",
   "execution_count": 124,
   "metadata": {},
   "outputs": [
    {
     "name": "stdout",
     "output_type": "stream",
     "text": [
      "              precision    recall  f1-score   support\n",
      "\n",
      "           0       1.00      0.99      0.99      1287\n",
      "           1       1.00      1.00      1.00        13\n",
      "           2       0.19      0.67      0.30         6\n",
      "           3       1.00      0.90      0.95        10\n",
      "           4       0.88      0.93      0.90        15\n",
      "\n",
      "    accuracy                           0.98      1331\n",
      "   macro avg       0.81      0.90      0.83      1331\n",
      "weighted avg       0.99      0.98      0.99      1331\n",
      "\n"
     ]
    },
    {
     "data": {
      "text/plain": [
       "<sklearn.metrics._plot.confusion_matrix.ConfusionMatrixDisplay at 0x16a2cf5b0>"
      ]
     },
     "execution_count": 124,
     "metadata": {},
     "output_type": "execute_result"
    },
    {
     "data": {
      "image/png": "[encoded data removed]",
      "text/plain": [
       "<Figure size 432x288 with 2 Axes>"
      ]
     },
     "metadata": {
      "needs_background": "light"
     },
     "output_type": "display_data"
    }
   ],
   "source": [
    "#criando e treinando o estimador baseline\n",
    "estimador_rfc = RandomForestClassifier(random_state=42)\n",
    "estimador_rfc.fit(X_sm, y_sm)\n",
    "y_pred_rfc = estimador_rfc.predict(X_test_scaled)\n",
    "\n",
    "print(classification_report(y_test, y_pred_rfc))\n",
    "\n",
    "ConfusionMatrixDisplay(confusion_matrix(y_test, y_pred_rfc, normalize='true')).plot()"
   ]
  },
  {
   "cell_type": "code",
   "execution_count": 125,
   "metadata": {},
   "outputs": [
    {
     "name": "stdout",
     "output_type": "stream",
     "text": [
      "Fitting 5 folds for each of 10 candidates, totalling 50 fits\n",
      "[CV 1/5] END criterion=entropy, max_depth=1, max_leaf_nodes=15, n_estimators=10;, score=0.800 total time=   0.1s\n",
      "[CV 2/5] END criterion=entropy, max_depth=1, max_leaf_nodes=15, n_estimators=10;, score=0.805 total time=   0.1s\n",
      "[CV 3/5] END criterion=entropy, max_depth=1, max_leaf_nodes=15, n_estimators=10;, score=0.806 total time=   0.1s\n",
      "[CV 4/5] END criterion=entropy, max_depth=1, max_leaf_nodes=15, n_estimators=10;, score=0.799 total time=   0.1s\n",
      "[CV 5/5] END criterion=entropy, max_depth=1, max_leaf_nodes=15, n_estimators=10;, score=0.798 total time=   0.1s\n",
      "[CV 1/5] END criterion=gini, max_depth=1, max_leaf_nodes=5, n_estimators=10;, score=0.843 total time=   0.0s\n",
      "[CV 2/5] END criterion=gini, max_depth=1, max_leaf_nodes=5, n_estimators=10;, score=0.839 total time=   0.0s\n",
      "[CV 3/5] END criterion=gini, max_depth=1, max_leaf_nodes=5, n_estimators=10;, score=0.845 total time=   0.0s\n",
      "[CV 4/5] END criterion=gini, max_depth=1, max_leaf_nodes=5, n_estimators=10;, score=0.832 total time=   0.0s\n",
      "[CV 5/5] END criterion=gini, max_depth=1, max_leaf_nodes=5, n_estimators=10;, score=0.832 total time=   0.0s\n",
      "[CV 1/5] END criterion=gini, max_depth=30, max_leaf_nodes=15, n_estimators=100;, score=0.986 total time=   1.3s\n",
      "[CV 2/5] END criterion=gini, max_depth=30, max_leaf_nodes=15, n_estimators=100;, score=0.988 total time=   1.4s\n",
      "[CV 3/5] END criterion=gini, max_depth=30, max_leaf_nodes=15, n_estimators=100;, score=0.989 total time=   1.4s\n",
      "[CV 4/5] END criterion=gini, max_depth=30, max_leaf_nodes=15, n_estimators=100;, score=0.988 total time=   1.4s\n",
      "[CV 5/5] END criterion=gini, max_depth=30, max_leaf_nodes=15, n_estimators=100;, score=0.986 total time=   1.3s\n",
      "[CV 1/5] END criterion=entropy, max_depth=1, max_leaf_nodes=15, n_estimators=100;, score=0.800 total time=   0.6s\n",
      "[CV 2/5] END criterion=entropy, max_depth=1, max_leaf_nodes=15, n_estimators=100;, score=0.806 total time=   0.5s\n",
      "[CV 3/5] END criterion=entropy, max_depth=1, max_leaf_nodes=15, n_estimators=100;, score=0.806 total time=   0.5s\n",
      "[CV 4/5] END criterion=entropy, max_depth=1, max_leaf_nodes=15, n_estimators=100;, score=0.799 total time=   0.5s\n",
      "[CV 5/5] END criterion=entropy, max_depth=1, max_leaf_nodes=15, n_estimators=100;, score=0.798 total time=   0.6s\n",
      "[CV 1/5] END criterion=gini, max_depth=30, max_leaf_nodes=5, n_estimators=10;, score=0.925 total time=   0.1s\n",
      "[CV 2/5] END criterion=gini, max_depth=30, max_leaf_nodes=5, n_estimators=10;, score=0.928 total time=   0.1s\n",
      "[CV 3/5] END criterion=gini, max_depth=30, max_leaf_nodes=5, n_estimators=10;, score=0.927 total time=   0.1s\n",
      "[CV 4/5] END criterion=gini, max_depth=30, max_leaf_nodes=5, n_estimators=10;, score=0.923 total time=   0.1s\n",
      "[CV 5/5] END criterion=gini, max_depth=30, max_leaf_nodes=5, n_estimators=10;, score=0.917 total time=   0.1s\n",
      "[CV 1/5] END criterion=entropy, max_depth=1, max_leaf_nodes=5, n_estimators=100;, score=0.800 total time=   0.5s\n",
      "[CV 2/5] END criterion=entropy, max_depth=1, max_leaf_nodes=5, n_estimators=100;, score=0.806 total time=   0.5s\n",
      "[CV 3/5] END criterion=entropy, max_depth=1, max_leaf_nodes=5, n_estimators=100;, score=0.806 total time=   0.5s\n",
      "[CV 4/5] END criterion=entropy, max_depth=1, max_leaf_nodes=5, n_estimators=100;, score=0.799 total time=   0.5s\n",
      "[CV 5/5] END criterion=entropy, max_depth=1, max_leaf_nodes=5, n_estimators=100;, score=0.798 total time=   0.5s\n",
      "[CV 1/5] END criterion=gini, max_depth=15, max_leaf_nodes=5, n_estimators=100;, score=0.885 total time=   1.0s\n",
      "[CV 2/5] END criterion=gini, max_depth=15, max_leaf_nodes=5, n_estimators=100;, score=0.882 total time=   1.0s\n",
      "[CV 3/5] END criterion=gini, max_depth=15, max_leaf_nodes=5, n_estimators=100;, score=0.882 total time=   1.0s\n",
      "[CV 4/5] END criterion=gini, max_depth=15, max_leaf_nodes=5, n_estimators=100;, score=0.877 total time=   1.0s\n",
      "[CV 5/5] END criterion=gini, max_depth=15, max_leaf_nodes=5, n_estimators=100;, score=0.869 total time=   1.0s\n",
      "[CV 1/5] END criterion=log_loss, max_depth=15, max_leaf_nodes=30, n_estimators=100;, score=0.989 total time=   2.0s\n",
      "[CV 2/5] END criterion=log_loss, max_depth=15, max_leaf_nodes=30, n_estimators=100;, score=0.991 total time=   1.9s\n",
      "[CV 3/5] END criterion=log_loss, max_depth=15, max_leaf_nodes=30, n_estimators=100;, score=0.991 total time=   2.0s\n",
      "[CV 4/5] END criterion=log_loss, max_depth=15, max_leaf_nodes=30, n_estimators=100;, score=0.991 total time=   1.9s\n",
      "[CV 5/5] END criterion=log_loss, max_depth=15, max_leaf_nodes=30, n_estimators=100;, score=0.990 total time=   2.0s\n",
      "[CV 1/5] END criterion=gini, max_depth=1, max_leaf_nodes=15, n_estimators=100;, score=0.816 total time=   0.4s\n",
      "[CV 2/5] END criterion=gini, max_depth=1, max_leaf_nodes=15, n_estimators=100;, score=0.815 total time=   0.4s\n",
      "[CV 3/5] END criterion=gini, max_depth=1, max_leaf_nodes=15, n_estimators=100;, score=0.822 total time=   0.4s\n",
      "[CV 4/5] END criterion=gini, max_depth=1, max_leaf_nodes=15, n_estimators=100;, score=0.814 total time=   0.4s\n",
      "[CV 5/5] END criterion=gini, max_depth=1, max_leaf_nodes=15, n_estimators=100;, score=0.810 total time=   0.4s\n",
      "[CV 1/5] END criterion=gini, max_depth=15, max_leaf_nodes=15, n_estimators=10;, score=0.981 total time=   0.1s\n",
      "[CV 2/5] END criterion=gini, max_depth=15, max_leaf_nodes=15, n_estimators=10;, score=0.985 total time=   0.1s\n",
      "[CV 3/5] END criterion=gini, max_depth=15, max_leaf_nodes=15, n_estimators=10;, score=0.985 total time=   0.1s\n",
      "[CV 4/5] END criterion=gini, max_depth=15, max_leaf_nodes=15, n_estimators=10;, score=0.986 total time=   0.1s\n",
      "[CV 5/5] END criterion=gini, max_depth=15, max_leaf_nodes=15, n_estimators=10;, score=0.987 total time=   0.1s\n",
      "              precision    recall  f1-score   support\n",
      "\n",
      "           0       1.00      0.94      0.97      1287\n",
      "           1       1.00      1.00      1.00        13\n",
      "           2       0.08      1.00      0.15         6\n",
      "           3       0.71      1.00      0.83        10\n",
      "           4       0.83      1.00      0.91        15\n",
      "\n",
      "    accuracy                           0.94      1331\n",
      "   macro avg       0.73      0.99      0.77      1331\n",
      "weighted avg       0.99      0.94      0.96      1331\n",
      "\n"
     ]
    },
    {
     "data": {
      "text/plain": [
       "{'n_estimators': 100,\n",
       " 'max_leaf_nodes': 30,\n",
       " 'max_depth': 15,\n",
       " 'criterion': 'log_loss'}"
      ]
     },
     "execution_count": 125,
     "metadata": {},
     "output_type": "execute_result"
    }
   ],
   "source": [
    "espaco_hiper = {\n",
    "    'n_estimators': [10,100,200],\n",
    "    'criterion':['gini', 'entropy', 'log_loss'],\n",
    "    'max_depth':[1, 15, 30],\n",
    "    'max_leaf_nodes':[5, 15, 30]\n",
    "}\n",
    "\n",
    "cv = StratifiedKFold(n_splits=5, shuffle=True, random_state=42)\n",
    "\n",
    "randomized_rfc = RandomizedSearchCV(\n",
    "    estimator=estimador_rfc,\n",
    "    param_distributions=espaco_hiper,\n",
    "    cv=cv,\n",
    "    scoring = 'f1_macro',\n",
    "    verbose=3,\n",
    "    random_state=42\n",
    ")\n",
    "\n",
    "randomized_rfc.fit(X_sm, y_sm)\n",
    "\n",
    "y_pred = randomized_rfc.predict(X_test_scaled)\n",
    "print(classification_report(y_test, y_pred))\n",
    "\n",
    "randomized_rfc.best_params_"
   ]
  },
  {
   "cell_type": "code",
   "execution_count": 126,
   "metadata": {},
   "outputs": [
    {
     "name": "stdout",
     "output_type": "stream",
     "text": [
      "              precision    recall  f1-score   support\n",
      "\n",
      "           0       1.00      0.94      0.97      1287\n",
      "           1       1.00      1.00      1.00        13\n",
      "           2       0.08      1.00      0.15         6\n",
      "           3       0.71      1.00      0.83        10\n",
      "           4       0.83      1.00      0.91        15\n",
      "\n",
      "    accuracy                           0.94      1331\n",
      "   macro avg       0.73      0.99      0.77      1331\n",
      "weighted avg       0.99      0.94      0.96      1331\n",
      "\n"
     ]
    },
    {
     "data": {
      "text/plain": [
       "<sklearn.metrics._plot.confusion_matrix.ConfusionMatrixDisplay at 0x153334f70>"
      ]
     },
     "execution_count": 126,
     "metadata": {},
     "output_type": "execute_result"
    },
    {
     "data": {
      "image/png": "[encoded data removed]",
      "text/plain": [
       "<Figure size 432x288 with 2 Axes>"
      ]
     },
     "metadata": {
      "needs_background": "light"
     },
     "output_type": "display_data"
    }
   ],
   "source": [
    "#treinando o estimador melhorado\n",
    "estimador_rfc_best = RandomForestClassifier(random_state=42, n_estimators=100, max_leaf_nodes=30, max_depth=15, criterion='log_loss')\n",
    "estimador_rfc_best.fit(X_sm, y_sm)\n",
    "y_pred_rfc = estimador_rfc_best.predict(X_test_scaled)\n",
    "\n",
    "print(classification_report(y_test, y_pred_rfc))\n",
    "\n",
    "ConfusionMatrixDisplay(confusion_matrix(y_test, y_pred_rfc, normalize='true')).plot()"
   ]
  },
  {
   "attachments": {},
   "cell_type": "markdown",
   "metadata": {},
   "source": [
    "### KNN"
   ]
  },
  {
   "cell_type": "code",
   "execution_count": 32,
   "metadata": {},
   "outputs": [
    {
     "name": "stdout",
     "output_type": "stream",
     "text": [
      "              precision    recall  f1-score   support\n",
      "\n",
      "           0       0.99      0.94      0.97      1287\n",
      "           1       0.50      0.85      0.63        13\n",
      "           2       0.10      0.83      0.18         6\n",
      "           3       0.42      0.50      0.45        10\n",
      "           4       0.40      0.80      0.53        15\n",
      "\n",
      "    accuracy                           0.93      1331\n",
      "   macro avg       0.48      0.78      0.55      1331\n",
      "weighted avg       0.97      0.93      0.95      1331\n",
      "\n"
     ]
    },
    {
     "data": {
      "text/plain": [
       "<sklearn.metrics._plot.confusion_matrix.ConfusionMatrixDisplay at 0x15312e8b0>"
      ]
     },
     "execution_count": 32,
     "metadata": {},
     "output_type": "execute_result"
    },
    {
     "data": {
      "image/png": "[encoded data removed]",
      "text/plain": [
       "<Figure size 432x288 with 2 Axes>"
      ]
     },
     "metadata": {
      "needs_background": "light"
     },
     "output_type": "display_data"
    }
   ],
   "source": [
    "#criando e treinando o KNN baseline\n",
    "estimador_knn = KNeighborsClassifier()\n",
    "estimador_knn.fit(X_sm, y_sm)\n",
    "y_pred_knn = estimador_knn.predict(X_test_scaled)\n",
    "\n",
    "print(classification_report(y_test, y_pred_knn))\n",
    "\n",
    "ConfusionMatrixDisplay(confusion_matrix(y_test, y_pred_knn, normalize='true')).plot()"
   ]
  },
  {
   "cell_type": "code",
   "execution_count": 33,
   "metadata": {},
   "outputs": [
    {
     "name": "stdout",
     "output_type": "stream",
     "text": [
      "Fitting 5 folds for each of 10 candidates, totalling 50 fits\n",
      "[CV 1/5] END ....n_neighbors=1, weights=uniform;, score=0.992 total time=   0.1s\n",
      "[CV 2/5] END ....n_neighbors=1, weights=uniform;, score=0.993 total time=   0.1s\n",
      "[CV 3/5] END ....n_neighbors=1, weights=uniform;, score=0.992 total time=   0.1s\n",
      "[CV 4/5] END ....n_neighbors=1, weights=uniform;, score=0.992 total time=   0.1s\n",
      "[CV 5/5] END ....n_neighbors=1, weights=uniform;, score=0.991 total time=   0.1s\n",
      "[CV 1/5] END ...n_neighbors=3, weights=distance;, score=0.988 total time=   0.0s\n",
      "[CV 2/5] END ...n_neighbors=3, weights=distance;, score=0.990 total time=   0.0s\n",
      "[CV 3/5] END ...n_neighbors=3, weights=distance;, score=0.988 total time=   0.0s\n",
      "[CV 4/5] END ...n_neighbors=3, weights=distance;, score=0.990 total time=   0.0s\n",
      "[CV 5/5] END ...n_neighbors=3, weights=distance;, score=0.990 total time=   0.0s\n",
      "[CV 1/5] END ...n_neighbors=19, weights=uniform;, score=0.977 total time=   0.1s\n",
      "[CV 2/5] END ...n_neighbors=19, weights=uniform;, score=0.978 total time=   0.1s\n",
      "[CV 3/5] END ...n_neighbors=19, weights=uniform;, score=0.976 total time=   0.1s\n",
      "[CV 4/5] END ...n_neighbors=19, weights=uniform;, score=0.978 total time=   0.1s\n",
      "[CV 5/5] END ...n_neighbors=19, weights=uniform;, score=0.978 total time=   0.1s\n",
      "[CV 1/5] END ..n_neighbors=23, weights=distance;, score=0.978 total time=   0.1s\n",
      "[CV 2/5] END ..n_neighbors=23, weights=distance;, score=0.979 total time=   0.1s\n",
      "[CV 3/5] END ..n_neighbors=23, weights=distance;, score=0.977 total time=   0.1s\n",
      "[CV 4/5] END ..n_neighbors=23, weights=distance;, score=0.978 total time=   0.1s\n",
      "[CV 5/5] END ..n_neighbors=23, weights=distance;, score=0.979 total time=   0.1s\n",
      "[CV 1/5] END ...n_neighbors=7, weights=distance;, score=0.983 total time=   0.0s\n",
      "[CV 2/5] END ...n_neighbors=7, weights=distance;, score=0.987 total time=   0.0s\n",
      "[CV 3/5] END ...n_neighbors=7, weights=distance;, score=0.983 total time=   0.0s\n",
      "[CV 4/5] END ...n_neighbors=7, weights=distance;, score=0.986 total time=   0.0s\n",
      "[CV 5/5] END ...n_neighbors=7, weights=distance;, score=0.988 total time=   0.0s\n",
      "[CV 1/5] END ...n_neighbors=28, weights=uniform;, score=0.975 total time=   0.1s\n",
      "[CV 2/5] END ...n_neighbors=28, weights=uniform;, score=0.976 total time=   0.1s\n",
      "[CV 3/5] END ...n_neighbors=28, weights=uniform;, score=0.974 total time=   0.1s\n",
      "[CV 4/5] END ...n_neighbors=28, weights=uniform;, score=0.976 total time=   0.1s\n",
      "[CV 5/5] END ...n_neighbors=28, weights=uniform;, score=0.976 total time=   0.1s\n",
      "[CV 1/5] END ..n_neighbors=17, weights=distance;, score=0.980 total time=   0.1s\n",
      "[CV 2/5] END ..n_neighbors=17, weights=distance;, score=0.981 total time=   0.1s\n",
      "[CV 3/5] END ..n_neighbors=17, weights=distance;, score=0.978 total time=   0.1s\n",
      "[CV 4/5] END ..n_neighbors=17, weights=distance;, score=0.982 total time=   0.1s\n",
      "[CV 5/5] END ..n_neighbors=17, weights=distance;, score=0.981 total time=   0.1s\n",
      "[CV 1/5] END ...n_neighbors=25, weights=uniform;, score=0.975 total time=   0.1s\n",
      "[CV 2/5] END ...n_neighbors=25, weights=uniform;, score=0.977 total time=   0.1s\n",
      "[CV 3/5] END ...n_neighbors=25, weights=uniform;, score=0.974 total time=   0.1s\n",
      "[CV 4/5] END ...n_neighbors=25, weights=uniform;, score=0.976 total time=   0.1s\n",
      "[CV 5/5] END ...n_neighbors=25, weights=uniform;, score=0.977 total time=   0.1s\n",
      "[CV 1/5] END ....n_neighbors=7, weights=uniform;, score=0.983 total time=   0.1s\n",
      "[CV 2/5] END ....n_neighbors=7, weights=uniform;, score=0.986 total time=   0.1s\n",
      "[CV 3/5] END ....n_neighbors=7, weights=uniform;, score=0.982 total time=   0.1s\n",
      "[CV 4/5] END ....n_neighbors=7, weights=uniform;, score=0.986 total time=   0.1s\n",
      "[CV 5/5] END ....n_neighbors=7, weights=uniform;, score=0.987 total time=   0.1s\n",
      "[CV 1/5] END ..n_neighbors=29, weights=distance;, score=0.977 total time=   0.1s\n",
      "[CV 2/5] END ..n_neighbors=29, weights=distance;, score=0.978 total time=   0.1s\n",
      "[CV 3/5] END ..n_neighbors=29, weights=distance;, score=0.974 total time=   0.1s\n",
      "[CV 4/5] END ..n_neighbors=29, weights=distance;, score=0.977 total time=   0.1s\n",
      "[CV 5/5] END ..n_neighbors=29, weights=distance;, score=0.977 total time=   0.1s\n"
     ]
    },
    {
     "data": {
      "text/plain": [
       "{'weights': 'uniform', 'n_neighbors': 1}"
      ]
     },
     "execution_count": 33,
     "metadata": {},
     "output_type": "execute_result"
    }
   ],
   "source": [
    "espaco_hiper = {\n",
    "    'n_neighbors': list(range(1,31)),\n",
    "    'weights': [\"uniform\", \"distance\"]\n",
    "}\n",
    "\n",
    "cv = StratifiedKFold(n_splits=5, shuffle=True, random_state=42)\n",
    "\n",
    "randomized_knn = RandomizedSearchCV(\n",
    "    estimator=estimador_knn,\n",
    "    param_distributions=espaco_hiper,\n",
    "    cv=cv,\n",
    "    scoring = 'f1_macro',\n",
    "    verbose=3,\n",
    "    random_state=42\n",
    ")\n",
    "\n",
    "randomized_knn.fit(X_sm, y_sm)\n",
    "randomized_knn.best_params_"
   ]
  },
  {
   "cell_type": "code",
   "execution_count": 34,
   "metadata": {},
   "outputs": [
    {
     "name": "stdout",
     "output_type": "stream",
     "text": [
      "              precision    recall  f1-score   support\n",
      "\n",
      "           0       0.99      0.98      0.98      1287\n",
      "           1       0.50      0.62      0.55        13\n",
      "           2       0.11      0.33      0.16         6\n",
      "           3       0.50      0.40      0.44        10\n",
      "           4       0.64      0.60      0.62        15\n",
      "\n",
      "    accuracy                           0.96      1331\n",
      "   macro avg       0.55      0.58      0.55      1331\n",
      "weighted avg       0.97      0.96      0.96      1331\n",
      "\n"
     ]
    },
    {
     "data": {
      "text/plain": [
       "<sklearn.metrics._plot.confusion_matrix.ConfusionMatrixDisplay at 0x1566fe070>"
      ]
     },
     "execution_count": 34,
     "metadata": {},
     "output_type": "execute_result"
    },
    {
     "data": {
      "image/png": "[encoded data removed]",
      "text/plain": [
       "<Figure size 432x288 with 2 Axes>"
      ]
     },
     "metadata": {
      "needs_background": "light"
     },
     "output_type": "display_data"
    }
   ],
   "source": [
    "# treinando o KNN com melhores parâmetros\n",
    "estimador_knn = KNeighborsClassifier(weights='uniform', n_neighbors= 1)\n",
    "estimador_knn.fit(X_sm, y_sm)\n",
    "y_pred_knn = estimador_knn.predict(X_test_scaled)\n",
    "\n",
    "print(classification_report(y_test, y_pred_knn))\n",
    "\n",
    "ConfusionMatrixDisplay(confusion_matrix(y_test, y_pred_knn, normalize='true')).plot()"
   ]
  },
  {
   "attachments": {},
   "cell_type": "markdown",
   "metadata": {},
   "source": [
    "### XGBoost"
   ]
  },
  {
   "cell_type": "code",
   "execution_count": 35,
   "metadata": {},
   "outputs": [
    {
     "name": "stdout",
     "output_type": "stream",
     "text": [
      "              precision    recall  f1-score   support\n",
      "\n",
      "           0       1.00      0.99      0.99      1287\n",
      "           1       1.00      1.00      1.00        13\n",
      "           2       0.16      0.50      0.24         6\n",
      "           3       1.00      0.90      0.95        10\n",
      "           4       0.87      0.87      0.87        15\n",
      "\n",
      "    accuracy                           0.98      1331\n",
      "   macro avg       0.80      0.85      0.81      1331\n",
      "weighted avg       0.99      0.98      0.99      1331\n",
      "\n"
     ]
    },
    {
     "data": {
      "text/plain": [
       "<sklearn.metrics._plot.confusion_matrix.ConfusionMatrixDisplay at 0x156921130>"
      ]
     },
     "execution_count": 35,
     "metadata": {},
     "output_type": "execute_result"
    },
    {
     "data": {
      "image/png": "[encoded data removed]",
      "text/plain": [
       "<Figure size 432x288 with 2 Axes>"
      ]
     },
     "metadata": {
      "needs_background": "light"
     },
     "output_type": "display_data"
    }
   ],
   "source": [
    "#criando e treinando o XGBoost baseline\n",
    "estimador_xgb = XGBClassifier(random_state=42)\n",
    "estimador_xgb.fit(X_sm, y_sm)\n",
    "y_pred_xgb = estimador_xgb.predict(X_test_scaled)\n",
    "\n",
    "print(classification_report(y_test, y_pred_xgb))\n",
    "\n",
    "ConfusionMatrixDisplay(confusion_matrix(y_test, y_pred_xgb, normalize='true')).plot()"
   ]
  },
  {
   "cell_type": "code",
   "execution_count": 36,
   "metadata": {},
   "outputs": [
    {
     "name": "stdout",
     "output_type": "stream",
     "text": [
      "Fitting 5 folds for each of 10 candidates, totalling 50 fits\n",
      "[CV 1/5] END alpha=1, colsample_bytree=0.4, learning_rate=0.01;, score=0.986 total time=   3.6s\n",
      "[CV 2/5] END alpha=1, colsample_bytree=0.4, learning_rate=0.01;, score=0.989 total time=   3.6s\n",
      "[CV 3/5] END alpha=1, colsample_bytree=0.4, learning_rate=0.01;, score=0.988 total time=   3.6s\n",
      "[CV 4/5] END alpha=1, colsample_bytree=0.4, learning_rate=0.01;, score=0.987 total time=   3.4s\n",
      "[CV 5/5] END alpha=1, colsample_bytree=0.4, learning_rate=0.01;, score=0.988 total time=   3.4s\n",
      "[CV 1/5] END alpha=1, colsample_bytree=0.8, learning_rate=0.15;, score=0.995 total time=   3.4s\n",
      "[CV 2/5] END alpha=1, colsample_bytree=0.8, learning_rate=0.15;, score=0.997 total time=   3.8s\n",
      "[CV 3/5] END alpha=1, colsample_bytree=0.8, learning_rate=0.15;, score=0.997 total time=   3.7s\n",
      "[CV 4/5] END alpha=1, colsample_bytree=0.8, learning_rate=0.15;, score=0.996 total time=   3.5s\n",
      "[CV 5/5] END alpha=1, colsample_bytree=0.8, learning_rate=0.15;, score=0.996 total time=   3.5s\n",
      "[CV 1/5] END alpha=0.01, colsample_bytree=0.1, learning_rate=0.01;, score=0.957 total time=   2.6s\n",
      "[CV 2/5] END alpha=0.01, colsample_bytree=0.1, learning_rate=0.01;, score=0.959 total time=   2.6s\n",
      "[CV 3/5] END alpha=0.01, colsample_bytree=0.1, learning_rate=0.01;, score=0.961 total time=   3.0s\n",
      "[CV 4/5] END alpha=0.01, colsample_bytree=0.1, learning_rate=0.01;, score=0.961 total time=   2.9s\n",
      "[CV 5/5] END alpha=0.01, colsample_bytree=0.1, learning_rate=0.01;, score=0.961 total time=   2.7s\n",
      "[CV 1/5] END alpha=0.8, colsample_bytree=1, learning_rate=0.01;, score=0.991 total time=   4.0s\n",
      "[CV 2/5] END alpha=0.8, colsample_bytree=1, learning_rate=0.01;, score=0.993 total time=   3.9s\n",
      "[CV 3/5] END alpha=0.8, colsample_bytree=1, learning_rate=0.01;, score=0.994 total time=   4.1s\n",
      "[CV 4/5] END alpha=0.8, colsample_bytree=1, learning_rate=0.01;, score=0.994 total time=   4.0s\n",
      "[CV 5/5] END alpha=0.8, colsample_bytree=1, learning_rate=0.01;, score=0.992 total time=   4.0s\n",
      "[CV 1/5] END alpha=0.01, colsample_bytree=0.4, learning_rate=0.1;, score=0.994 total time=   3.3s\n",
      "[CV 2/5] END alpha=0.01, colsample_bytree=0.4, learning_rate=0.1;, score=0.996 total time=   3.2s\n",
      "[CV 3/5] END alpha=0.01, colsample_bytree=0.4, learning_rate=0.1;, score=0.995 total time=   3.2s\n",
      "[CV 4/5] END alpha=0.01, colsample_bytree=0.4, learning_rate=0.1;, score=0.995 total time=   3.2s\n",
      "[CV 5/5] END alpha=0.01, colsample_bytree=0.4, learning_rate=0.1;, score=0.995 total time=   3.3s\n",
      "[CV 1/5] END alpha=0.8, colsample_bytree=0.4, learning_rate=0.01;, score=0.986 total time=   3.4s\n",
      "[CV 2/5] END alpha=0.8, colsample_bytree=0.4, learning_rate=0.01;, score=0.989 total time=   3.4s\n",
      "[CV 3/5] END alpha=0.8, colsample_bytree=0.4, learning_rate=0.01;, score=0.988 total time=   3.3s\n",
      "[CV 4/5] END alpha=0.8, colsample_bytree=0.4, learning_rate=0.01;, score=0.987 total time=   3.3s\n",
      "[CV 5/5] END alpha=0.8, colsample_bytree=0.4, learning_rate=0.01;, score=0.988 total time=   3.4s\n",
      "[CV 1/5] END alpha=0.3, colsample_bytree=0.1, learning_rate=0.01;, score=0.957 total time=   2.7s\n",
      "[CV 2/5] END alpha=0.3, colsample_bytree=0.1, learning_rate=0.01;, score=0.959 total time=   2.7s\n",
      "[CV 3/5] END alpha=0.3, colsample_bytree=0.1, learning_rate=0.01;, score=0.961 total time=   2.6s\n",
      "[CV 4/5] END alpha=0.3, colsample_bytree=0.1, learning_rate=0.01;, score=0.961 total time=   2.7s\n",
      "[CV 5/5] END alpha=0.3, colsample_bytree=0.1, learning_rate=0.01;, score=0.961 total time=   2.6s\n",
      "[CV 1/5] END alpha=0.01, colsample_bytree=1, learning_rate=0.01;, score=0.991 total time=   4.8s\n",
      "[CV 2/5] END alpha=0.01, colsample_bytree=1, learning_rate=0.01;, score=0.993 total time=   4.7s\n",
      "[CV 3/5] END alpha=0.01, colsample_bytree=1, learning_rate=0.01;, score=0.994 total time=   4.9s\n",
      "[CV 4/5] END alpha=0.01, colsample_bytree=1, learning_rate=0.01;, score=0.994 total time=   4.3s\n",
      "[CV 5/5] END alpha=0.01, colsample_bytree=1, learning_rate=0.01;, score=0.992 total time=   4.0s\n",
      "[CV 1/5] END alpha=0.3, colsample_bytree=0.8, learning_rate=0.1;, score=0.995 total time=   3.8s\n",
      "[CV 2/5] END alpha=0.3, colsample_bytree=0.8, learning_rate=0.1;, score=0.997 total time=   3.8s\n",
      "[CV 3/5] END alpha=0.3, colsample_bytree=0.8, learning_rate=0.1;, score=0.995 total time=   3.7s\n",
      "[CV 4/5] END alpha=0.3, colsample_bytree=0.8, learning_rate=0.1;, score=0.996 total time=   3.7s\n",
      "[CV 5/5] END alpha=0.3, colsample_bytree=0.8, learning_rate=0.1;, score=0.996 total time=   4.2s\n",
      "[CV 1/5] END alpha=1, colsample_bytree=1, learning_rate=0.1;, score=0.994 total time=   4.1s\n",
      "[CV 2/5] END alpha=1, colsample_bytree=1, learning_rate=0.1;, score=0.996 total time=   3.9s\n",
      "[CV 3/5] END alpha=1, colsample_bytree=1, learning_rate=0.1;, score=0.996 total time=   3.9s\n",
      "[CV 4/5] END alpha=1, colsample_bytree=1, learning_rate=0.1;, score=0.996 total time=   3.8s\n",
      "[CV 5/5] END alpha=1, colsample_bytree=1, learning_rate=0.1;, score=0.996 total time=   3.9s\n"
     ]
    },
    {
     "data": {
      "text/plain": [
       "{'learning_rate': 0.15, 'colsample_bytree': 0.8, 'alpha': 1}"
      ]
     },
     "execution_count": 36,
     "metadata": {},
     "output_type": "execute_result"
    }
   ],
   "source": [
    "espaco_hiper = {\n",
    "    'learning_rate': [0.01, 0.1, 0.15, 0.2],\n",
    "    'alpha': [0.01, 0.3, 0.8, 1],\n",
    "    'colsample_bytree': [0.1, 0.4, 0.8, 1]\n",
    "}\n",
    "\n",
    "cv = StratifiedKFold(n_splits=5, shuffle=True, random_state=42)\n",
    "\n",
    "randomized_rfc = RandomizedSearchCV(\n",
    "    estimator=estimador_xgb,\n",
    "    param_distributions=espaco_hiper,\n",
    "    cv=cv,\n",
    "    verbose=3,\n",
    "    scoring = 'f1_macro',\n",
    "    random_state=42\n",
    ")\n",
    "\n",
    "randomized_rfc.fit(X_sm, y_sm)\n",
    "randomized_rfc.best_params_"
   ]
  },
  {
   "cell_type": "code",
   "execution_count": 37,
   "metadata": {},
   "outputs": [
    {
     "name": "stdout",
     "output_type": "stream",
     "text": [
      "              precision    recall  f1-score   support\n",
      "\n",
      "           0       1.00      0.98      0.99      1287\n",
      "           1       1.00      1.00      1.00        13\n",
      "           2       0.12      0.50      0.19         6\n",
      "           3       1.00      0.90      0.95        10\n",
      "           4       0.93      0.87      0.90        15\n",
      "\n",
      "    accuracy                           0.98      1331\n",
      "   macro avg       0.81      0.85      0.80      1331\n",
      "weighted avg       0.99      0.98      0.98      1331\n",
      "\n"
     ]
    },
    {
     "data": {
      "text/plain": [
       "<sklearn.metrics._plot.confusion_matrix.ConfusionMatrixDisplay at 0x153223ca0>"
      ]
     },
     "execution_count": 37,
     "metadata": {},
     "output_type": "execute_result"
    },
    {
     "data": {
      "image/png": "[encoded data removed]",
      "text/plain": [
       "<Figure size 432x288 with 2 Axes>"
      ]
     },
     "metadata": {
      "needs_background": "light"
     },
     "output_type": "display_data"
    }
   ],
   "source": [
    "#treinando o estimador com os melhores parâmetros\n",
    "estimador_xgb_best = XGBClassifier(random_state=42, learning_rate= 0.15, colsample_bytree=0.8, alpha=1)\n",
    "estimador_xgb_best.fit(X_sm, y_sm)\n",
    "y_pred_xgb = estimador_xgb_best.predict(X_test_scaled)\n",
    "\n",
    "print(classification_report(y_test, y_pred_xgb))\n",
    "\n",
    "ConfusionMatrixDisplay(confusion_matrix(y_test, y_pred_xgb, normalize='true')).plot()"
   ]
  },
  {
   "attachments": {},
   "cell_type": "markdown",
   "metadata": {},
   "source": [
    "## 6. Comparação e escolha do modelo"
   ]
  },
  {
   "attachments": {},
   "cell_type": "markdown",
   "metadata": {},
   "source": [
    "Vamos selecionar os modelos após passarem pelo RandomSearch e compará-los:\n"
   ]
  },
  {
   "attachments": {},
   "cell_type": "markdown",
   "metadata": {},
   "source": [
    "<img src=\"imgs/resultados.png\" width=1200>"
   ]
  },
  {
   "attachments": {},
   "cell_type": "markdown",
   "metadata": {},
   "source": [
    "Pelas matrizes acima, torna-se claro que o melhor modelo para este problema é o RandomForest. <br/>\n",
    "Além de prever corretamente todas as vezes que algum erro acontece, quando ele comete algum erro ele está prevendo que um erro acontecerá, quando não acontece. É melhor que ocorra assim do que o modelo não prever nenhuma ocorrência e os erros acontecerem.<br/>\n",
    "Assim, o modelo escolhido é o RandomForest otimizado."
   ]
  },
  {
   "attachments": {},
   "cell_type": "markdown",
   "metadata": {},
   "source": [
    "## 7. Treinamento do modelo final"
   ]
  },
  {
   "attachments": {},
   "cell_type": "markdown",
   "metadata": {},
   "source": [
    "Agora que já temos o modelo escolhido, vamos retreiná-lo com todos os dados disponíveis para teste. Após isso, faremos a predição para os dados a serem entregues, sem esquecer de antes fazer todas as alterações necessárias nestes dados."
   ]
  },
  {
   "attachments": {},
   "cell_type": "markdown",
   "metadata": {},
   "source": [
    "Devemos lembrar que é provavel que tenhamos uma performance pior do que a prevista acima, pois no dataset de treino teremos os \"Random Failures\", que o nosso modelo não consegue prever!"
   ]
  },
  {
   "cell_type": "code",
   "execution_count": 45,
   "metadata": {},
   "outputs": [],
   "source": [
    "# fazendo o balanceamento do dataset\n",
    "X = df_falhas.drop(columns=['failure_type'])\n",
    "y = df_falhas['failure_type']\n",
    "\n",
    "# fazendo o scale das features\n",
    "mms = MinMaxScaler()\n",
    "rs = RobustScaler()\n",
    "ss = StandardScaler()\n",
    "\n",
    "mms_columns = ['tool_wear_min', 'is_time_for_change','temp_dif','power', 'overstrain']\n",
    "rs_columns = ['rotational_speed_rpm', 'torque_nm']\n",
    "ss_columns = ['air_temperature_k', 'process_temperature_k']\n",
    "\n",
    "features_scaled_mms = pd.DataFrame(mms.fit_transform(X[mms_columns]))\n",
    "features_scaled_rs = pd.DataFrame(rs.fit_transform(X[rs_columns]))\n",
    "features_scaled_ss = pd.DataFrame(ss.fit_transform(X[ss_columns]))"
   ]
  },
  {
   "cell_type": "code",
   "execution_count": 47,
   "metadata": {},
   "outputs": [],
   "source": [
    "# reconstruindo o dataset\n",
    "X_scaled = pd.concat([features_scaled_mms,features_scaled_rs,features_scaled_ss], axis=1)\n",
    "X_scaled = pd.concat([X_scaled,pd.DataFrame(X['type']).set_index(X_scaled.index)], axis = 1,ignore_index=True)\n",
    "X_scaled.columns = ['type', 'tool_wear_min', 'is_time_for_change','temp_dif','power', 'overstrain', 'rotational_speed_rpm', 'torque_nm', 'air_temperature_k', 'process_temperature_k']"
   ]
  },
  {
   "cell_type": "code",
   "execution_count": 48,
   "metadata": {},
   "outputs": [
    {
     "name": "stdout",
     "output_type": "stream",
     "text": [
      "Treino (antes): (6655, 10)\n",
      "Treino: (32175, 10)\n"
     ]
    }
   ],
   "source": [
    "# fazendo o balanceamento do dataset\n",
    "sm = SMOTE(random_state=42)\n",
    "X_final, y_final = sm.fit_resample(X_scaled, y)\n",
    "\n",
    "\n",
    "print(f\"Treino (antes): {X_scaled.shape}\")\n",
    "print(f\"Treino: {X_final.shape}\")\n"
   ]
  },
  {
   "cell_type": "code",
   "execution_count": 49,
   "metadata": {},
   "outputs": [
    {
     "data": {
      "image/png": "[encoded data removed]",
      "text/plain": [
       "<Figure size 504x504 with 1 Axes>"
      ]
     },
     "metadata": {},
     "output_type": "display_data"
    }
   ],
   "source": [
    "#conferindo o balanceamento das classes\n",
    "df_final = pd.concat([X_final, y_final], axis=1)\n",
    "df_final.columns = ['type', 'tool_wear_min', 'is_time_for_change','temp_dif','power', 'overstrain', 'rotational_speed_rpm', 'torque_nm', 'air_temperature_k', 'process_temperature_k', 'failure_type']\n",
    "plt.figure(figsize = (7, 7))\n",
    "plt.pie(x=df_final.failure_type.value_counts(), labels={'No Failure':0, 'Power Failure':1, 'Tool Wear Failure':2, 'Overstrain Failure':3, 'Heat Dissipation Failure':4}, autopct='%1.1f%%', startangle=90)\n",
    "plt.show()"
   ]
  },
  {
   "cell_type": "code",
   "execution_count": 50,
   "metadata": {},
   "outputs": [
    {
     "data": {
      "text/html": [
       "<style>#sk-container-id-2 {color: black;background-color: white;}#sk-container-id-2 pre{padding: 0;}#sk-container-id-2 div.sk-toggleable {background-color: white;}#sk-container-id-2 label.sk-toggleable__label {cursor: pointer;display: block;width: 100%;margin-bottom: 0;padding: 0.3em;box-sizing: border-box;text-align: center;}#sk-container-id-2 label.sk-toggleable__label-arrow:before {content: \"▸\";float: left;margin-right: 0.25em;color: #696969;}#sk-container-id-2 label.sk-toggleable__label-arrow:hover:before {color: black;}#sk-container-id-2 div.sk-estimator:hover label.sk-toggleable__label-arrow:before {color: black;}#sk-container-id-2 div.sk-toggleable__content {max-height: 0;max-width: 0;overflow: hidden;text-align: left;background-color: #f0f8ff;}#sk-container-id-2 div.sk-toggleable__content pre {margin: 0.2em;color: black;border-radius: 0.25em;background-color: #f0f8ff;}#sk-container-id-2 input.sk-toggleable__control:checked~div.sk-toggleable__content {max-height: 200px;max-width: 100%;overflow: auto;}#sk-container-id-2 input.sk-toggleable__control:checked~label.sk-toggleable__label-arrow:before {content: \"▾\";}#sk-container-id-2 div.sk-estimator input.sk-toggleable__control:checked~label.sk-toggleable__label {background-color: #d4ebff;}#sk-container-id-2 div.sk-label input.sk-toggleable__control:checked~label.sk-toggleable__label {background-color: #d4ebff;}#sk-container-id-2 input.sk-hidden--visually {border: 0;clip: rect(1px 1px 1px 1px);clip: rect(1px, 1px, 1px, 1px);height: 1px;margin: -1px;overflow: hidden;padding: 0;position: absolute;width: 1px;}#sk-container-id-2 div.sk-estimator {font-family: monospace;background-color: #f0f8ff;border: 1px dotted black;border-radius: 0.25em;box-sizing: border-box;margin-bottom: 0.5em;}#sk-container-id-2 div.sk-estimator:hover {background-color: #d4ebff;}#sk-container-id-2 div.sk-parallel-item::after {content: \"\";width: 100%;border-bottom: 1px solid gray;flex-grow: 1;}#sk-container-id-2 div.sk-label:hover label.sk-toggleable__label {background-color: #d4ebff;}#sk-container-id-2 div.sk-serial::before {content: \"\";position: absolute;border-left: 1px solid gray;box-sizing: border-box;top: 0;bottom: 0;left: 50%;z-index: 0;}#sk-container-id-2 div.sk-serial {display: flex;flex-direction: column;align-items: center;background-color: white;padding-right: 0.2em;padding-left: 0.2em;position: relative;}#sk-container-id-2 div.sk-item {position: relative;z-index: 1;}#sk-container-id-2 div.sk-parallel {display: flex;align-items: stretch;justify-content: center;background-color: white;position: relative;}#sk-container-id-2 div.sk-item::before, #sk-container-id-2 div.sk-parallel-item::before {content: \"\";position: absolute;border-left: 1px solid gray;box-sizing: border-box;top: 0;bottom: 0;left: 50%;z-index: -1;}#sk-container-id-2 div.sk-parallel-item {display: flex;flex-direction: column;z-index: 1;position: relative;background-color: white;}#sk-container-id-2 div.sk-parallel-item:first-child::after {align-self: flex-end;width: 50%;}#sk-container-id-2 div.sk-parallel-item:last-child::after {align-self: flex-start;width: 50%;}#sk-container-id-2 div.sk-parallel-item:only-child::after {width: 0;}#sk-container-id-2 div.sk-dashed-wrapped {border: 1px dashed gray;margin: 0 0.4em 0.5em 0.4em;box-sizing: border-box;padding-bottom: 0.4em;background-color: white;}#sk-container-id-2 div.sk-label label {font-family: monospace;font-weight: bold;display: inline-block;line-height: 1.2em;}#sk-container-id-2 div.sk-label-container {text-align: center;}#sk-container-id-2 div.sk-container {/* jupyter's `normalize.less` sets `[hidden] { display: none; }` but bootstrap.min.css set `[hidden] { display: none !important; }` so we also need the `!important` here to be able to override the default hidden behavior on the sphinx rendered scikit-learn.org. See: https://github.com/scikit-learn/scikit-learn/issues/21755 */display: inline-block !important;position: relative;}#sk-container-id-2 div.sk-text-repr-fallback {display: none;}</style><div id=\"sk-container-id-2\" class=\"sk-top-container\"><div class=\"sk-text-repr-fallback\"><pre>RandomForestClassifier(criterion=&#x27;log_loss&#x27;, max_depth=15, max_leaf_nodes=30,\n",
       "                       random_state=42)</pre><b>In a Jupyter environment, please rerun this cell to show the HTML representation or trust the notebook. <br />On GitHub, the HTML representation is unable to render, please try loading this page with nbviewer.org.</b></div><div class=\"sk-container\" hidden><div class=\"sk-item\"><div class=\"sk-estimator sk-toggleable\"><input class=\"sk-toggleable__control sk-hidden--visually\" id=\"sk-estimator-id-2\" type=\"checkbox\" checked><label for=\"sk-estimator-id-2\" class=\"sk-toggleable__label sk-toggleable__label-arrow\">RandomForestClassifier</label><div class=\"sk-toggleable__content\"><pre>RandomForestClassifier(criterion=&#x27;log_loss&#x27;, max_depth=15, max_leaf_nodes=30,\n",
       "                       random_state=42)</pre></div></div></div></div></div>"
      ],
      "text/plain": [
       "RandomForestClassifier(criterion='log_loss', max_depth=15, max_leaf_nodes=30,\n",
       "                       random_state=42)"
      ]
     },
     "execution_count": 50,
     "metadata": {},
     "output_type": "execute_result"
    }
   ],
   "source": [
    "#treinando o modelo final\n",
    "estimador_final = RandomForestClassifier(random_state=42, n_estimators=100, max_leaf_nodes=30, max_depth=15, criterion='log_loss')\n",
    "estimador_final.fit(X_final, y_final)"
   ]
  },
  {
   "cell_type": "code",
   "execution_count": 127,
   "metadata": {},
   "outputs": [
    {
     "data": {
      "text/html": [
       "<div>\n",
       "<style scoped>\n",
       "    .dataframe tbody tr th:only-of-type {\n",
       "        vertical-align: middle;\n",
       "    }\n",
       "\n",
       "    .dataframe tbody tr th {\n",
       "        vertical-align: top;\n",
       "    }\n",
       "\n",
       "    .dataframe thead th {\n",
       "        text-align: right;\n",
       "    }\n",
       "</style>\n",
       "<table border=\"1\" class=\"dataframe\">\n",
       "  <thead>\n",
       "    <tr style=\"text-align: right;\">\n",
       "      <th></th>\n",
       "      <th>udi</th>\n",
       "      <th>product_id</th>\n",
       "      <th>type</th>\n",
       "      <th>air_temperature_k</th>\n",
       "      <th>process_temperature_k</th>\n",
       "      <th>rotational_speed_rpm</th>\n",
       "      <th>torque_nm</th>\n",
       "      <th>tool_wear_min</th>\n",
       "    </tr>\n",
       "  </thead>\n",
       "  <tbody>\n",
       "    <tr>\n",
       "      <th>0</th>\n",
       "      <td>446</td>\n",
       "      <td>L47625</td>\n",
       "      <td>L</td>\n",
       "      <td>297.5</td>\n",
       "      <td>308.6</td>\n",
       "      <td>1793</td>\n",
       "      <td>26.7</td>\n",
       "      <td>70</td>\n",
       "    </tr>\n",
       "    <tr>\n",
       "      <th>1</th>\n",
       "      <td>7076</td>\n",
       "      <td>L54255</td>\n",
       "      <td>L</td>\n",
       "      <td>300.7</td>\n",
       "      <td>310.5</td>\n",
       "      <td>1536</td>\n",
       "      <td>47.4</td>\n",
       "      <td>192</td>\n",
       "    </tr>\n",
       "    <tr>\n",
       "      <th>2</th>\n",
       "      <td>1191</td>\n",
       "      <td>L48370</td>\n",
       "      <td>L</td>\n",
       "      <td>297.2</td>\n",
       "      <td>308.4</td>\n",
       "      <td>1460</td>\n",
       "      <td>42.1</td>\n",
       "      <td>41</td>\n",
       "    </tr>\n",
       "    <tr>\n",
       "      <th>3</th>\n",
       "      <td>2618</td>\n",
       "      <td>L49797</td>\n",
       "      <td>L</td>\n",
       "      <td>299.4</td>\n",
       "      <td>309.1</td>\n",
       "      <td>1670</td>\n",
       "      <td>35.9</td>\n",
       "      <td>68</td>\n",
       "    </tr>\n",
       "    <tr>\n",
       "      <th>4</th>\n",
       "      <td>5067</td>\n",
       "      <td>L52246</td>\n",
       "      <td>L</td>\n",
       "      <td>304.1</td>\n",
       "      <td>313.1</td>\n",
       "      <td>1550</td>\n",
       "      <td>30.9</td>\n",
       "      <td>9</td>\n",
       "    </tr>\n",
       "  </tbody>\n",
       "</table>\n",
       "</div>"
      ],
      "text/plain": [
       "    udi product_id type  air_temperature_k  process_temperature_k  \\\n",
       "0   446     L47625    L              297.5                  308.6   \n",
       "1  7076     L54255    L              300.7                  310.5   \n",
       "2  1191     L48370    L              297.2                  308.4   \n",
       "3  2618     L49797    L              299.4                  309.1   \n",
       "4  5067     L52246    L              304.1                  313.1   \n",
       "\n",
       "   rotational_speed_rpm  torque_nm  tool_wear_min  \n",
       "0                  1793       26.7             70  \n",
       "1                  1536       47.4            192  \n",
       "2                  1460       42.1             41  \n",
       "3                  1670       35.9             68  \n",
       "4                  1550       30.9              9  "
      ]
     },
     "metadata": {},
     "output_type": "display_data"
    },
    {
     "name": "stdout",
     "output_type": "stream",
     "text": [
      "A tabela tem 8 colunas e 3333 registros.\n"
     ]
    }
   ],
   "source": [
    "# Agora vamos importar o dataset de teste\n",
    "df_teste = pd.read_csv('data/desafio_manutencao_preditiva_teste.csv')\n",
    "display(df_teste.head())\n",
    "print(f'A tabela tem {df_teste.shape[1]} colunas e {df_teste.shape[0]} registros.')"
   ]
  },
  {
   "cell_type": "code",
   "execution_count": 128,
   "metadata": {},
   "outputs": [
    {
     "data": {
      "text/html": [
       "<div>\n",
       "<style scoped>\n",
       "    .dataframe tbody tr th:only-of-type {\n",
       "        vertical-align: middle;\n",
       "    }\n",
       "\n",
       "    .dataframe tbody tr th {\n",
       "        vertical-align: top;\n",
       "    }\n",
       "\n",
       "    .dataframe thead th {\n",
       "        text-align: right;\n",
       "    }\n",
       "</style>\n",
       "<table border=\"1\" class=\"dataframe\">\n",
       "  <thead>\n",
       "    <tr style=\"text-align: right;\">\n",
       "      <th></th>\n",
       "      <th>type</th>\n",
       "      <th>air_temperature_k</th>\n",
       "      <th>process_temperature_k</th>\n",
       "      <th>rotational_speed_rpm</th>\n",
       "      <th>torque_nm</th>\n",
       "      <th>tool_wear_min</th>\n",
       "      <th>is_time_for_change</th>\n",
       "      <th>temp_dif</th>\n",
       "      <th>power</th>\n",
       "      <th>overstrain</th>\n",
       "    </tr>\n",
       "  </thead>\n",
       "  <tbody>\n",
       "    <tr>\n",
       "      <th>0</th>\n",
       "      <td>0</td>\n",
       "      <td>297.5</td>\n",
       "      <td>308.6</td>\n",
       "      <td>1793</td>\n",
       "      <td>26.7</td>\n",
       "      <td>70</td>\n",
       "      <td>0</td>\n",
       "      <td>11.1</td>\n",
       "      <td>47873.1</td>\n",
       "      <td>1869.0</td>\n",
       "    </tr>\n",
       "    <tr>\n",
       "      <th>1</th>\n",
       "      <td>0</td>\n",
       "      <td>300.7</td>\n",
       "      <td>310.5</td>\n",
       "      <td>1536</td>\n",
       "      <td>47.4</td>\n",
       "      <td>192</td>\n",
       "      <td>0</td>\n",
       "      <td>9.8</td>\n",
       "      <td>72806.4</td>\n",
       "      <td>9100.8</td>\n",
       "    </tr>\n",
       "    <tr>\n",
       "      <th>2</th>\n",
       "      <td>0</td>\n",
       "      <td>297.2</td>\n",
       "      <td>308.4</td>\n",
       "      <td>1460</td>\n",
       "      <td>42.1</td>\n",
       "      <td>41</td>\n",
       "      <td>0</td>\n",
       "      <td>11.2</td>\n",
       "      <td>61466.0</td>\n",
       "      <td>1726.1</td>\n",
       "    </tr>\n",
       "    <tr>\n",
       "      <th>3</th>\n",
       "      <td>0</td>\n",
       "      <td>299.4</td>\n",
       "      <td>309.1</td>\n",
       "      <td>1670</td>\n",
       "      <td>35.9</td>\n",
       "      <td>68</td>\n",
       "      <td>0</td>\n",
       "      <td>9.7</td>\n",
       "      <td>59953.0</td>\n",
       "      <td>2441.2</td>\n",
       "    </tr>\n",
       "    <tr>\n",
       "      <th>4</th>\n",
       "      <td>0</td>\n",
       "      <td>304.1</td>\n",
       "      <td>313.1</td>\n",
       "      <td>1550</td>\n",
       "      <td>30.9</td>\n",
       "      <td>9</td>\n",
       "      <td>0</td>\n",
       "      <td>9.0</td>\n",
       "      <td>47895.0</td>\n",
       "      <td>278.1</td>\n",
       "    </tr>\n",
       "  </tbody>\n",
       "</table>\n",
       "</div>"
      ],
      "text/plain": [
       "   type  air_temperature_k  process_temperature_k  rotational_speed_rpm  \\\n",
       "0     0              297.5                  308.6                  1793   \n",
       "1     0              300.7                  310.5                  1536   \n",
       "2     0              297.2                  308.4                  1460   \n",
       "3     0              299.4                  309.1                  1670   \n",
       "4     0              304.1                  313.1                  1550   \n",
       "\n",
       "   torque_nm  tool_wear_min  is_time_for_change  temp_dif    power  overstrain  \n",
       "0       26.7             70                   0      11.1  47873.1      1869.0  \n",
       "1       47.4            192                   0       9.8  72806.4      9100.8  \n",
       "2       42.1             41                   0      11.2  61466.0      1726.1  \n",
       "3       35.9             68                   0       9.7  59953.0      2441.2  \n",
       "4       30.9              9                   0       9.0  47895.0       278.1  "
      ]
     },
     "execution_count": 128,
     "metadata": {},
     "output_type": "execute_result"
    }
   ],
   "source": [
    "# deletaremos as colunas desnecessárias\n",
    "df_teste.drop([\"udi\", \"product_id\"], axis = 1, inplace=True)\n",
    "\n",
    "# tornaremos o type em uma feature numérica\n",
    "df_teste.type.replace({'L':0, 'M':1, 'H':2}, inplace=True)\n",
    "\n",
    "# criaremos as features iguais as anteriores\n",
    "df_teste['is_time_for_change'] = df_teste.apply(lambda x: 1 if (x.tool_wear_min > 200 and x.tool_wear_min < 240) else 0 ,axis=1)\n",
    "df_teste['temp_dif'] = df_teste['process_temperature_k'] - df_teste['air_temperature_k']\n",
    "df_teste['power'] = df_teste['torque_nm'] * df_teste['rotational_speed_rpm']\n",
    "df_teste['overstrain'] = df_teste['torque_nm'] * df_teste['tool_wear_min']\n",
    "\n",
    "df_teste.head()"
   ]
  },
  {
   "cell_type": "code",
   "execution_count": 129,
   "metadata": {},
   "outputs": [],
   "source": [
    "# Por fim, vamos fazer os mesmos scales feitos no conjunto de treino\n",
    "features_scaled_mms = pd.DataFrame(mms.transform(df_teste[mms_columns]))\n",
    "features_scaled_rs = pd.DataFrame(rs.transform(df_teste[rs_columns]))\n",
    "features_scaled_ss = pd.DataFrame(ss.transform(df_teste[ss_columns]))\n",
    "\n",
    "# reconstruindo o dataset de teste\n",
    "df_teste_scaled = pd.concat([features_scaled_mms,features_scaled_rs,features_scaled_ss], axis=1)\n",
    "df_teste_scaled = pd.concat([df_teste_scaled,pd.DataFrame(df_teste['type']).set_index(df_teste_scaled.index)], axis = 1,ignore_index=True)\n",
    "df_teste_scaled.columns = ['type', 'tool_wear_min', 'is_time_for_change','temp_dif','power', 'overstrain', 'rotational_speed_rpm', 'torque_nm', 'air_temperature_k', 'process_temperature_k']"
   ]
  },
  {
   "cell_type": "code",
   "execution_count": 161,
   "metadata": {},
   "outputs": [],
   "source": [
    "y_pred_final = pd.DataFrame(estimador_final.predict(df_teste_scaled))\n",
    "dict_falhas_reverso = {0:'No Failure', 1:'Power Failure', 2:'Tool Wear Failure', 3:'Overstrain Failure', 4:'Heat Dissipation Failure'}\n",
    "y_pred_final = y_pred_rfc.replace(dict_falhas_reverso)"
   ]
  },
  {
   "cell_type": "code",
   "execution_count": 162,
   "metadata": {},
   "outputs": [],
   "source": [
    "# Configurando e exportando envio final\n",
    "y_pred_final.columns = ['predictedValues']\n",
    "y_pred_final.to_csv('predicted_values.csv', index_label='rowNumber' )"
   ]
  }
 ],
 "metadata": {
  "kernelspec": {
   "display_name": "base",
   "language": "python",
   "name": "python3"
  },
  "language_info": {
   "codemirror_mode": {
    "name": "ipython",
    "version": 3
   },
   "file_extension": ".py",
   "mimetype": "text/x-python",
   "name": "python",
   "nbconvert_exporter": "python",
   "pygments_lexer": "ipython3",
   "version": "3.9.12"
  },
  "orig_nbformat": 4,
  "vscode": {
   "interpreter": {
    "hash": "cea1ecbc9060237308d6f43d2a8f2f7ecb9842b1b44e6cce898a5c7b51f4cadd"
   }
  }
 },
 "nbformat": 4,
 "nbformat_minor": 2
}
